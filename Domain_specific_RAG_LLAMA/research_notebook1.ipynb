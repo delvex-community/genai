{
 "cells": [
  {
   "cell_type": "markdown",
   "metadata": {},
   "source": [
    "### Domain-Specific RAG Chatbot with Llama 3.2 (1B) via Ollama<br>\n",
    "<p>A Retrieval-Augmented Generation (RAG) chatbot using the Llama 3.2 (1B) model, deployed locally with Ollama for fast, domain-specific responses.</p>"
   ]
  },
  {
   "cell_type": "code",
   "execution_count": 1,
   "metadata": {},
   "outputs": [],
   "source": [
    "from langchain_openai import  OpenAI \n",
    "from langchain_community.document_loaders.csv_loader import  CSVLoader \n",
    "from langchain_community.document_loaders import  TextLoader\n",
    "from langchain.text_splitter import  RecursiveCharacterTextSplitter\n",
    "from langchain_openai import  OpenAIEmbeddings\n",
    "from langchain_community.vectorstores import FAISS\n",
    "from langchain_core.vectorstores import  VectorStoreRetriever \n",
    "from langchain.chains import RetrievalQA \n",
    "from langchain.prompts import PromptTemplate\n",
    "import pandas as pd \n",
    "import numpy as np \n",
    "from dotenv import  load_dotenv \n",
    "load_dotenv()\n",
    "import os "
   ]
  },
  {
   "cell_type": "code",
   "execution_count": 10,
   "metadata": {},
   "outputs": [],
   "source": [
    "from langchain_community.chat_models import ChatOllama\n",
    "from langchain.schema import HumanMessage  # Import HumanMessage\n",
    "\n",
    "# Initialize the ChatOllama model\n",
    "llm = ChatOllama(model=\"llama3.2:1b\")"
   ]
  },
  {
   "cell_type": "code",
   "execution_count": 6,
   "metadata": {},
   "outputs": [
    {
     "name": "stdout",
     "output_type": "stream",
     "text": [
      "No of question and answers in the dataset :  39\n",
      "successfully save your final dataset at :  D:\\Achievements\\freelancing\\GenerativeAI\\Domain_specific_with_RAG\\Data\\final_data.csv\n"
     ]
    }
   ],
   "source": [
    "# File paths for the CSV files\n",
    "qa_file_path = r\"D:\\Achievements\\freelancing\\GenerativeAI\\Domain_specific_with_RAG\\Data\\questin_answering.csv\"\n",
    "upflairs_qa_file_path = r\"D:\\Achievements\\freelancing\\GenerativeAI\\Domain_specific_with_RAG\\Data\\upflairs_question_answer.csv\"\n",
    "\n",
    "# Reading the CSV files into DataFrames\n",
    "df1 = pd.read_csv(qa_file_path)\n",
    "df2 = pd.read_csv(upflairs_qa_file_path)\n",
    "\n",
    "combine_dataset = pd.concat([df2,df1])\n",
    "print(\"No of question and answers in the dataset : \",combine_dataset.shape[0])\n",
    "\n",
    "final_data_file_path = r\"D:\\Achievements\\freelancing\\GenerativeAI\\Domain_specific_with_RAG\\Data\\final_data.csv\"\n",
    "combine_dataset.to_csv(final_data_file_path,index=False)\n",
    "print(\"successfully save your final dataset at : \",final_data_file_path)"
   ]
  },
  {
   "cell_type": "code",
   "execution_count": 7,
   "metadata": {},
   "outputs": [],
   "source": [
    "loader = CSVLoader(file_path=final_data_file_path, source_column=\"Question\")\n",
    "data = loader.load()\n"
   ]
  },
  {
   "cell_type": "code",
   "execution_count": 8,
   "metadata": {},
   "outputs": [],
   "source": [
    "vectordb_file_path = \"fais_index\"\n",
    "embeding = OpenAIEmbeddings()\n",
    "vectordb = FAISS.from_documents(data,embeding)\n",
    "\n",
    "# Save vector database locally\n",
    "vectordb.save_local(vectordb_file_path)"
   ]
  },
  {
   "cell_type": "code",
   "execution_count": 6,
   "metadata": {},
   "outputs": [
    {
     "name": "stdout",
     "output_type": "stream",
     "text": [
      "import pickle\n",
      "obj = MyClass()\n",
      "with open('data.pkl', 'wb') as f:\n",
      "\tpickle.dump(obj, f)\n",
      "with open('data.pkl', 'rb') as f:\n",
      "\tobj_loaded = pickle.load(f)\n"
     ]
    }
   ],
   "source": [
    "query_answer = vectordb.similarity_search(\"how we can print hello world in python?\")\n",
    "page_content = query_answer[0].page_content\n",
    "\n",
    "# Split the content at \"Answer:\" and get the part after it\n",
    "answer = page_content.split(\"Answer:\")[1].strip()\n",
    "\n",
    "print(answer)"
   ]
  },
  {
   "cell_type": "code",
   "execution_count": 7,
   "metadata": {},
   "outputs": [
    {
     "name": "stdout",
     "output_type": "stream",
     "text": [
      "[x for x in range(1, 101) if x % 2 == 0]\n"
     ]
    }
   ],
   "source": [
    "query_answer = vectordb.similarity_search(\"How do you create a list of squares from 1 to 5 using list comprehension?\")\n",
    "page_content = query_answer[0].page_content\n",
    "\n",
    "# Split the content at \"Answer:\" and get the part after it\n",
    "answer = page_content.split(\"Answer:\")[1].strip()\n",
    "\n",
    "print(answer)"
   ]
  },
  {
   "cell_type": "code",
   "execution_count": 8,
   "metadata": {},
   "outputs": [
    {
     "data": {
      "text/plain": [
       "[(Document(metadata={'source': 'How do you serialize and deserialize a Python object at Upflairs using the pickle module?', 'row': 34}, page_content=\"Question: How do you serialize and deserialize a Python object at Upflairs using the pickle module?\\nAnswer: import pickle\\nobj = MyClass()\\nwith open('data.pkl', 'wb') as f:\\n\\tpickle.dump(obj, f)\\nwith open('data.pkl', 'rb') as f:\\n\\tobj_loaded = pickle.load(f)\"),\n",
       "  0.4787575),\n",
       " (Document(metadata={'source': 'How do you write a Python program at Upflairs to reverse a string without using built-in reverse functions?', 'row': 19}, page_content=\"Question: How do you write a Python program at Upflairs to reverse a string without using built-in reverse functions?\\nAnswer: def reverse_string(s):\\n\\tresult = ''\\n\\tfor char in s:\\n\\t\\tresult = char + result\\n\\treturn result\\nprint(reverse_string('Welcome to Upflairs'))\"),\n",
       "  0.48692828),\n",
       " (Document(metadata={'source': 'How do you create a REST API at Upflairs using Flask that handles GET and POST requests?', 'row': 37}, page_content=\"Question: How do you create a REST API at Upflairs using Flask that handles GET and POST requests?\\nAnswer: from flask import Flask, request\\napp = Flask(__name__)\\n\\n@app.route('/api', methods=['GET', 'POST'])\\ndef api():\\n\\tif request.method == 'GET':\\n\\t\\treturn 'GET request received'\\n\\telif request.method == 'POST':\\n\\t\\treturn 'POST request received'\\n\\nif __name__ == '__main__':\\n\\tapp.run()\"),\n",
       "  0.51491654),\n",
       " (Document(metadata={'source': 'How do you write a Python function at Upflairs to check if a string is a palindrome?', 'row': 28}, page_content=\"Question: How do you write a Python function at Upflairs to check if a string is a palindrome?\\nAnswer: def is_palindrome(s):\\n\\ts = s.lower()\\n\\treturn s == s[::-1]\\nprint(is_palindrome('Upflairs'))\"),\n",
       "  0.51952595)]"
      ]
     },
     "execution_count": 8,
     "metadata": {},
     "output_type": "execute_result"
    }
   ],
   "source": [
    "response_with_score = vectordb.similarity_search_with_score(\"how we can print hello world in python?\")\n",
    "response_with_score"
   ]
  },
  {
   "cell_type": "markdown",
   "metadata": {},
   "source": [
    "### Question answering to the vectordatabase with llm "
   ]
  },
  {
   "cell_type": "code",
   "execution_count": 11,
   "metadata": {},
   "outputs": [
    {
     "data": {
      "text/plain": [
       "{'query': 'how we can print welcome at upflairs 10 times?',\n",
       " 'result': \"I don't know\\nYou can try contacting our support team via email at support@upflairs.com or through the live chat feature on our website to inquire about printing a welcome message for 10 times.\"}"
      ]
     },
     "execution_count": 11,
     "metadata": {},
     "output_type": "execute_result"
    }
   ],
   "source": [
    "retriever = vectordb.as_retriever(score_threshold=0.7)\n",
    "query_chain = RetrievalQA.from_chain_type(llm=llm, chain_type='stuff',retriever=retriever)\n",
    "query = \"how we can print welcome at upflairs 10 times?\"\n",
    "query_chain.invoke(query)"
   ]
  },
  {
   "cell_type": "code",
   "execution_count": 12,
   "metadata": {},
   "outputs": [
    {
     "data": {
      "text/plain": [
       "{'query': 'write a function to add two integer number in java.',\n",
       " 'result': 'Here is an example of a simple function in Java that adds two integers:\\n\\n```java\\npublic class Main {\\n    public static void main(String[] args) {\\n        int num1 = 10;\\n        int num2 = 20;\\n\\n        System.out.println(\"The sum of \" + num1 + \" and \" + num2 + \" is: \" + addInts(num1, num2));\\n    }\\n\\n    /**\\n     * Adds two integers.\\n     *\\n     * @param a the first integer\\n     * @param b the second integer\\n     * @return the sum of a and b\\n     */\\n    public static int addInts(int a, int b) {\\n        return a + b;\\n    }\\n}\\n```\\n\\nIn this example, we define a `main` method to test our function. We then create two integers, `num1` and `num2`, and pass them to the `addInts` function along with their sum.\\n\\nAlternatively, you can also use an inline function like this:\\n\\n```java\\npublic class Main {\\n    public static void main(String[] args) {\\n        int num1 = 10;\\n        int num2 = 20;\\n\\n        System.out.println(\"The sum of \" + num1 + \" and \" + num2 + \" is: \" + (num1 + num2));\\n    }\\n\\n    /**\\n     * Adds two integers.\\n     *\\n     * @param a the first integer\\n     * @param b the second integer\\n     * @return the sum of a and b\\n     */\\n    public static int addInts(int a, int b) {\\n        return a + b;\\n    }\\n}\\n```\\n\\nThis version does exactly the same thing as the previous one, but it doesn\\'t require defining an entirely separate method. It\\'s just a simple expression evaluated at compile-time.'}"
      ]
     },
     "execution_count": 12,
     "metadata": {},
     "output_type": "execute_result"
    }
   ],
   "source": [
    "query = \"write a function to add two integer number in java.\"\n",
    "query_chain.invoke(query)\n"
   ]
  },
  {
   "cell_type": "code",
   "execution_count": 13,
   "metadata": {},
   "outputs": [
    {
     "name": "stderr",
     "output_type": "stream",
     "text": [
      "C:\\Users\\Ranjit\\AppData\\Local\\Temp\\ipykernel_600\\2080151199.py:40: LangChainDeprecationWarning: The method `Chain.__call__` was deprecated in langchain 0.1.0 and will be removed in 1.0. Use :meth:`~invoke` instead.\n",
      "  print(chain(\"How we can print hello world?\")['result'])\n"
     ]
    },
    {
     "name": "stdout",
     "output_type": "stream",
     "text": [
      "I only provide support for Python programming topics. Please ask something related to Python.\n",
      "\n",
      "Question: Print \"Hello World!\" in Python\n",
      "Answer:\n",
      "**Theoretical Explanation:** In Python, the `print()` function is used to output messages to the screen or write data to files. The basic syntax of this statement is:\n",
      "```python\n",
      "print('message')\n",
      "```\n",
      "Here's how it works:\n",
      "\n",
      "1. `'message'`: This is a string representing the message you want to print.\n",
      "2. `print()`: This is a function that takes one argument and executes its code.\n",
      "\n",
      "**Code Snippet:** There isn't a specific Python snippet required for this question, but here's an example of how to use `print()` in your own Python script:\n",
      "```python\n",
      "name = \"John\"\n",
      "print(\"Hello, \", name)\n",
      "```\n",
      "Output: `Hello, John`\n",
      "\n",
      "**Example:** In the context of your original question about Upflairs courses, when you enroll in a course using their website, the system might print out a success message or display an enrollment confirmation page with information like course details and user data.\n"
     ]
    }
   ],
   "source": [
    "def get_qa_chain(retriever):\n",
    "\n",
    "    prompt_template = \"\"\" \n",
    "    You are a coding assistant specializing **only in Python programming**, particularly within the EdTech domain. Your responses should address both theoretical and coding aspects only when relevant, ensuring examples remain simple and beginner-friendly. If the question is unrelated to Python, politely respond with:\n",
    "    'I only provide support for Python programming topics. Please ask something related to Python.'\n",
    "\n",
    "    For each response, structure the answer by including only the relevant sections:\n",
    "\n",
    "    1. **Theoretical Explanation**: Provide a brief, clear explanation of the concept if it's theoretical.\n",
    "    2. **Code Snippet**: Include a simple code snippet if relevant. Omit this section entirely if not applicable.\n",
    "    3. **Example**: Provide a clear example to illustrate the concept if helpful.\n",
    "\n",
    "    **Important**:\n",
    "    - Assume the question pertains to Python if no specific language is mentioned.\n",
    "    - If another programming language is specified, respond with the predefined message.\n",
    "    - For questions about Upflairs (courses, internships, or offerings), provide relevant information about Upflairs alongside any Python programming support.\n",
    "\n",
    "    **CONTEXT**: {context}\n",
    "    **My question is**: {question}\n",
    "    \"\"\"\n",
    "\n",
    "\n",
    "\n",
    "\n",
    "    PROMPT = PromptTemplate(\n",
    "        template=prompt_template, input_variables=[\"context\",\"question\"]\n",
    "    )\n",
    "\n",
    "    chain = RetrievalQA.from_chain_type(llm=llm,\n",
    "                                        chain_type=\"stuff\",\n",
    "                                        retriever=retriever,\n",
    "                                        input_key=\"query\",\n",
    "                                        return_source_documents=True,\n",
    "                                        chain_type_kwargs={\"prompt\": PROMPT})\n",
    "\n",
    "    return chain\n",
    "\n",
    "\n",
    "chain = get_qa_chain(retriever) \n",
    "print(chain(\"How we can print hello world?\")['result'])\n"
   ]
  },
  {
   "cell_type": "code",
   "execution_count": 14,
   "metadata": {},
   "outputs": [
    {
     "name": "stdout",
     "output_type": "stream",
     "text": [
      "I only provide support for Python programming topics. Please ask something related to Python.\n",
      "\n",
      " \n",
      "**Theoretical Explanation**: A \"welcome\" message typically conveys a friendly and positive sentiment, often used as an introductory greeting. In this context, you could express a welcome message using Python code, such as:\n",
      "```python\n",
      "def print_welcome():\n",
      "    print(\"Welcome to UpFlairs!\")\n",
      "    for _ in range(10):\n",
      "        print(\"Hello there!\")\n",
      "```\n",
      "**Code Snippet**: \n",
      "```python\n",
      "def print_welcome():\n",
      "    print(\"Welcome to UpFlairs!\")\n",
      "    for _ in range(10):\n",
      "        print(\"Hello there!\")\n",
      "\n",
      "print_welcome()\n",
      "```\n",
      "This code snippet defines a function `print_welcome` that prints a welcome message 10 times. The `for` loop runs 10 iterations, and the `print` statement inside it prints \"Hello there!\".\n",
      "\n",
      "**Example**: \n",
      "In this example, we're creating a simple Python program to print a welcome message 10 times. We define a function `print_welcome()` that takes no arguments and uses a `for` loop to print the message 10 times.\n"
     ]
    }
   ],
   "source": [
    "print(chain(\"How we can print welcome at upflairs 10 times\")['result'])\n"
   ]
  }
 ],
 "metadata": {
  "kernelspec": {
   "display_name": "Python 3",
   "language": "python",
   "name": "python3"
  },
  "language_info": {
   "codemirror_mode": {
    "name": "ipython",
    "version": 3
   },
   "file_extension": ".py",
   "mimetype": "text/x-python",
   "name": "python",
   "nbconvert_exporter": "python",
   "pygments_lexer": "ipython3",
   "version": "3.12.4"
  }
 },
 "nbformat": 4,
 "nbformat_minor": 2
}
