{
 "cells": [
  {
   "cell_type": "markdown",
   "metadata": {},
   "source": [
    "### Domain Specific chatbot with RAG"
   ]
  },
  {
   "cell_type": "code",
   "execution_count": 30,
   "metadata": {},
   "outputs": [],
   "source": [
    "from langchain_openai import  OpenAI \n",
    "from langchain_community.document_loaders.csv_loader import  CSVLoader \n",
    "from langchain_community.document_loaders import  TextLoader\n",
    "from langchain.text_splitter import  RecursiveCharacterTextSplitter\n",
    "from langchain_openai import  OpenAIEmbeddings\n",
    "from langchain_community.vectorstores import FAISS\n",
    "from langchain_core.vectorstores import  VectorStoreRetriever \n",
    "from langchain.chains import RetrievalQA \n",
    "from langchain.prompts import PromptTemplate\n",
    "import pandas as pd \n",
    "import numpy as np \n",
    "import os "
   ]
  },
  {
   "cell_type": "code",
   "execution_count": 31,
   "metadata": {},
   "outputs": [],
   "source": [
    "os.environ['OPENAI_API_KEY'] = os.getenv(\"gpt_api_key\")"
   ]
  },
  {
   "cell_type": "code",
   "execution_count": 32,
   "metadata": {},
   "outputs": [
    {
     "name": "stdout",
     "output_type": "stream",
     "text": [
      "No of question and answers in the dataset :  38\n",
      "successfully save your final dataset at :  D:\\Achievements\\freelancing\\GenerativeAI\\Domain_specific_with_RAG\\Data\\final_data.csv\n"
     ]
    }
   ],
   "source": [
    "# File paths for the CSV files\n",
    "qa_file_path = r\"D:\\Achievements\\freelancing\\GenerativeAI\\Domain_specific_with_RAG\\Data\\questin_answering.csv\"\n",
    "upflairs_qa_file_path = r\"D:\\Achievements\\freelancing\\GenerativeAI\\Domain_specific_with_RAG\\Data\\upflairs_question_answer.csv\"\n",
    "\n",
    "# Reading the CSV files into DataFrames\n",
    "df1 = pd.read_csv(qa_file_path)\n",
    "df2 = pd.read_csv(upflairs_qa_file_path)\n",
    "\n",
    "combine_dataset = pd.concat([df2,df1])\n",
    "print(\"No of question and answers in the dataset : \",combine_dataset.shape[0])\n",
    "\n",
    "final_data_file_path = r\"D:\\Achievements\\freelancing\\GenerativeAI\\Domain_specific_with_RAG\\Data\\final_data.csv\"\n",
    "combine_dataset.to_csv(final_data_file_path,index=False)\n",
    "print(\"successfully save your final dataset at : \",final_data_file_path)"
   ]
  },
  {
   "cell_type": "code",
   "execution_count": null,
   "metadata": {},
   "outputs": [],
   "source": []
  },
  {
   "cell_type": "code",
   "execution_count": 33,
   "metadata": {},
   "outputs": [],
   "source": [
    "loader = CSVLoader(file_path=final_data_file_path, source_column=\"Question\")\n",
    "data = loader.load()\n"
   ]
  },
  {
   "cell_type": "code",
   "execution_count": 34,
   "metadata": {},
   "outputs": [],
   "source": [
    "vectordb_file_path = \"fais_index\"\n",
    "embeding = OpenAIEmbeddings()\n",
    "vectordb = FAISS.from_documents(data,embeding)\n",
    "\n",
    "# Save vector database locally\n",
    "vectordb.save_local(vectordb_file_path)"
   ]
  },
  {
   "cell_type": "code",
   "execution_count": 35,
   "metadata": {},
   "outputs": [
    {
     "name": "stdout",
     "output_type": "stream",
     "text": [
      "import pickle\n",
      "obj = MyClass()\n",
      "with open('data.pkl', 'wb') as f:\n",
      "\tpickle.dump(obj, f)\n",
      "with open('data.pkl', 'rb') as f:\n",
      "\tobj_loaded = pickle.load(f)\n"
     ]
    }
   ],
   "source": [
    "query_answer = vectordb.similarity_search(\"how we can print hello world in python?\")\n",
    "page_content = query_answer[0].page_content\n",
    "\n",
    "# Split the content at \"Answer:\" and get the part after it\n",
    "answer = page_content.split(\"Answer:\")[1].strip()\n",
    "\n",
    "print(answer)"
   ]
  },
  {
   "cell_type": "markdown",
   "metadata": {},
   "source": []
  },
  {
   "cell_type": "code",
   "execution_count": 36,
   "metadata": {},
   "outputs": [
    {
     "name": "stdout",
     "output_type": "stream",
     "text": [
      "[x for x in range(1, 101) if x % 2 == 0]\n"
     ]
    }
   ],
   "source": [
    "query_answer = vectordb.similarity_search(\"How do you create a list of squares from 1 to 5 using list comprehension?\")\n",
    "page_content = query_answer[0].page_content\n",
    "\n",
    "# Split the content at \"Answer:\" and get the part after it\n",
    "answer = page_content.split(\"Answer:\")[1].strip()\n",
    "\n",
    "print(answer)"
   ]
  },
  {
   "cell_type": "code",
   "execution_count": 37,
   "metadata": {},
   "outputs": [
    {
     "data": {
      "text/plain": [
       "[(Document(metadata={'source': 'How do you serialize and deserialize a Python object at Upflairs using the pickle module?', 'row': 33}, page_content=\"Question: How do you serialize and deserialize a Python object at Upflairs using the pickle module?\\nAnswer: import pickle\\nobj = MyClass()\\nwith open('data.pkl', 'wb') as f:\\n\\tpickle.dump(obj, f)\\nwith open('data.pkl', 'rb') as f:\\n\\tobj_loaded = pickle.load(f)\"),\n",
       "  0.4787575),\n",
       " (Document(metadata={'source': 'How do you write a Python program at Upflairs to reverse a string without using built-in reverse functions?', 'row': 18}, page_content=\"Question: How do you write a Python program at Upflairs to reverse a string without using built-in reverse functions?\\nAnswer: def reverse_string(s):\\n\\tresult = ''\\n\\tfor char in s:\\n\\t\\tresult = char + result\\n\\treturn result\\nprint(reverse_string('Welcome to Upflairs'))\"),\n",
       "  0.48692828),\n",
       " (Document(metadata={'source': 'How do you create a REST API at Upflairs using Flask that handles GET and POST requests?', 'row': 36}, page_content=\"Question: How do you create a REST API at Upflairs using Flask that handles GET and POST requests?\\nAnswer: from flask import Flask, request\\napp = Flask(__name__)\\n\\n@app.route('/api', methods=['GET', 'POST'])\\ndef api():\\n\\tif request.method == 'GET':\\n\\t\\treturn 'GET request received'\\n\\telif request.method == 'POST':\\n\\t\\treturn 'POST request received'\\n\\nif __name__ == '__main__':\\n\\tapp.run()\"),\n",
       "  0.5148827),\n",
       " (Document(metadata={'source': 'How do you write a Python function at Upflairs to check if a string is a palindrome?', 'row': 27}, page_content=\"Question: How do you write a Python function at Upflairs to check if a string is a palindrome?\\nAnswer: def is_palindrome(s):\\n\\ts = s.lower()\\n\\treturn s == s[::-1]\\nprint(is_palindrome('Upflairs'))\"),\n",
       "  0.5192493)]"
      ]
     },
     "execution_count": 37,
     "metadata": {},
     "output_type": "execute_result"
    }
   ],
   "source": [
    "response_with_score = vectordb.similarity_search_with_score(\"how we can print hello world in python?\")\n",
    "response_with_score"
   ]
  },
  {
   "cell_type": "markdown",
   "metadata": {},
   "source": [
    "### Question answering to the vectordatabase with llm "
   ]
  },
  {
   "cell_type": "code",
   "execution_count": 38,
   "metadata": {},
   "outputs": [
    {
     "data": {
      "text/plain": [
       "{'query': 'how we can print welcome at upflairs 10 times?',\n",
       " 'result': \" I'm sorry, I am an AI and do not have access to printing capabilities. Please contact Upflairs directly for assistance with printing.\"}"
      ]
     },
     "execution_count": 38,
     "metadata": {},
     "output_type": "execute_result"
    }
   ],
   "source": [
    "retriever = vectordb.as_retriever(score_threshold=0.7)\n",
    "query_chain = RetrievalQA.from_chain_type(llm=OpenAI(), chain_type='stuff',retriever=retriever)\n",
    "query = \"how we can print welcome at upflairs 10 times?\"\n",
    "query_chain.invoke(query)"
   ]
  },
  {
   "cell_type": "code",
   "execution_count": 39,
   "metadata": {},
   "outputs": [
    {
     "name": "stdout",
     "output_type": "stream",
     "text": [
      " I'm sorry, I cannot generate or print any text as I am a computer program.\n"
     ]
    }
   ],
   "source": [
    "retriever = vectordb.as_retriever()\n",
    "query_chain = RetrievalQA.from_chain_type(llm=OpenAI(), chain_type='stuff',retriever=retriever)\n",
    "query = \"how we can print welcome at upflairs 10 times?\"\n",
    "print(query_chain.invoke(query)['result'])"
   ]
  },
  {
   "cell_type": "code",
   "execution_count": 40,
   "metadata": {},
   "outputs": [
    {
     "name": "stdout",
     "output_type": "stream",
     "text": [
      "\n",
      "    **Theoretical Explanation**: Printing \"Hello World\" is often the first program a beginner writes when learning a new programming language. It is a simple way to test if the code is running correctly and to get familiar with the basic syntax of the language.\n",
      "\n",
      "    **Code Snippet**: \n",
      "    print(\"Hello World\")\n",
      "\n",
      "    **Example**: In the code snippet above, the \"print()\" function is used to display the string \"Hello World\" on the screen. This function takes in a string as its argument and outputs it to the console. So, when the code is executed, the output will be: \"Hello World\".\n"
     ]
    }
   ],
   "source": [
    "def get_qa_chain(retriever):\n",
    "\n",
    "    \n",
    "    # prompt_template = \"\"\"\n",
    "    # Give the response only related to the EdTech domain, covering both theoretical and coding aspects.\n",
    "    # The example must be simple to understand for beginners, and the response should include:\n",
    "    # 1. A brief theoretical explanation.\n",
    "    # 2. A small code snippet.\n",
    "    # 3. A clear and simple example.\n",
    "    # You are a coding assistant specialized in generating responses related **only to Python programming**.\n",
    "    # If the question is not related to Python programing, politely refuse to answer by saying:\n",
    "    # 'I only provide support for Python programming topics. Please ask something related to Python'\n",
    "    # if you will not find any specific programing name in question then write content related to python.\n",
    "\n",
    "    # CONTEXT: {context}\n",
    "    # My question is: {question}\n",
    "    # \"\"\"\n",
    "\n",
    "\n",
    "    # prompt_template = \"\"\"\n",
    "    # You are a coding assistant specializing **only in Python programming**, particularly within the EdTech domain. Your response should cover both theoretical and coding aspects while ensuring examples are simple and beginner-friendly. If the question is unrelated to Python, politely refuse by saying: \n",
    "    # 'I only provide support for Python programming topics. Please ask something related to Python.'\n",
    "\n",
    "    # For each response, follow this structure:\n",
    "\n",
    "    # 1. **Theoretical Explanation**: Provide a brief and clear explanation of the concept.\n",
    "    # 2. **Code Snippet**: Include a small, simple code snippet related to the topic.\n",
    "    # 3. **Example**: Show a clear and easy-to-understand example that illustrates the concept.\n",
    "\n",
    "    # If no specific programming language is mentioned in the question, assume it is about Python and proceed accordingly.\n",
    "\n",
    "    # **CONTEXT**: {context}\n",
    "    # **My question is**: {question}\n",
    "    # \"\"\"\n",
    "\n",
    "    prompt_template = \"\"\"\n",
    "    You are a coding assistant specializing **only in Python programming**, particularly within the EdTech domain. Your response should cover both theoretical and coding aspects while ensuring examples are simple and beginner-friendly. If the question is unrelated to Python, politely refuse by saying: \n",
    "    'I only provide support for Python programming topics. Please ask something related to Python.'\n",
    "\n",
    "    For each response, follow this structure:\n",
    "\n",
    "    1. **Theoretical Explanation**: Provide a brief and clear explanation of the concept.\n",
    "    2. **Code Snippet**: Include a small, simple code snippet related to the topic.\n",
    "    3. **Example**: Show a clear and easy-to-understand example that illustrates the concept.\n",
    "\n",
    "    **Important**: \n",
    "    - If no specific programming language is mentioned, automatically assume the question is about Python and proceed accordingly.\n",
    "    - If the question explicitly mentions a different programming language, provide the polite refusal mentioned above.\n",
    "\n",
    "    **CONTEXT**: {context}\n",
    "    **My question is**: {question}\n",
    "    \"\"\"\n",
    "\n",
    "\n",
    "\n",
    "    PROMPT = PromptTemplate(\n",
    "        template=prompt_template, input_variables=[\"context\",\"question\"]\n",
    "    )\n",
    "\n",
    "    chain = RetrievalQA.from_chain_type(llm=OpenAI(),\n",
    "                                        chain_type=\"stuff\",\n",
    "                                        retriever=retriever,\n",
    "                                        input_key=\"query\",\n",
    "                                        return_source_documents=True,\n",
    "                                        chain_type_kwargs={\"prompt\": PROMPT})\n",
    "\n",
    "    return chain\n",
    "\n",
    "\n",
    "chain = get_qa_chain(retriever) \n",
    "print(chain(\"How we can print hello world?\")['result'])\n"
   ]
  },
  {
   "cell_type": "code",
   "execution_count": 41,
   "metadata": {},
   "outputs": [
    {
     "name": "stdout",
     "output_type": "stream",
     "text": [
      "\n",
      "    'I only provide support for Python programming topics. Please ask something related to Python.'\n"
     ]
    }
   ],
   "source": [
    "print(chain(\"How we can print hello world java?\")['result'])"
   ]
  },
  {
   "cell_type": "code",
   "execution_count": 42,
   "metadata": {},
   "outputs": [
    {
     "name": "stdout",
     "output_type": "stream",
     "text": [
      "\n",
      "    **Theoretical Explanation**: To calculate the average (or mean) of a given set of n integer items, we need to sum all the items and then divide the sum by n. This can be represented by the formula: average = (sum of items) / n.\n",
      "\n",
      "    **Code Snippet**: \n",
      "    ```python\n",
      "    def calculate_average(n, items):\n",
      "        sum = 0\n",
      "        for i in range(n):\n",
      "            sum += items[i]\n",
      "        average = sum / n\n",
      "        return average\n",
      "    ```\n",
      "\n",
      "    **Example**: Let's say we have a list of 5 integer items: [10, 20, 30, 40, 50]. We want to calculate the average of these 5 items. Using the above function, we can do it like this:\n",
      "    ```python\n",
      "    items = [10, 20, 30, 40, 50]\n",
      "    n = len(items)\n",
      "    average = calculate_average(n, items)\n",
      "    print(average)\n",
      "    ```\n",
      "    Output: 30.0\n"
     ]
    }
   ],
   "source": [
    "print(chain(\"write a program to calculate the average of given n item of integer items\")['result'])\n"
   ]
  },
  {
   "cell_type": "code",
   "execution_count": 43,
   "metadata": {},
   "outputs": [
    {
     "name": "stdout",
     "output_type": "stream",
     "text": [
      "\n",
      "1. **Theoretical Explanation**: A class in Python is a blueprint or a template that is used to create objects. It is a collection of attributes (variables) and methods (functions) that define the behavior and properties of an object. It allows for code reusability and helps to organize and structure code into logical units.\n",
      "\n",
      "2. **Code Snippet**: \n",
      "```\n",
      "class MyClass:\n",
      "    pass\n",
      "```\n",
      "\n",
      "3. **Example**: In this example, we define a class called `MyClass` using the `class` keyword. The `pass` keyword is used as a placeholder for now, as we have not defined any attributes or methods in this class. \n"
     ]
    }
   ],
   "source": [
    "question = \"How do you define a class in python?\"\n",
    "print(chain(question)['result'])"
   ]
  },
  {
   "cell_type": "code",
   "execution_count": 45,
   "metadata": {},
   "outputs": [
    {
     "name": "stdout",
     "output_type": "stream",
     "text": [
      "\n",
      "    I only provide support for Python programming topics. Please ask something related to Python.\n"
     ]
    }
   ],
   "source": [
    "question = \"who are you?\"\n",
    "print(chain(question)['result'])"
   ]
  },
  {
   "cell_type": "code",
   "execution_count": 46,
   "metadata": {},
   "outputs": [
    {
     "name": "stdout",
     "output_type": "stream",
     "text": [
      "\n",
      "    1. **Theoretical Explanation**: To enroll in a course, you will need to visit the Upflairs website and follow the enrollment process. This typically involves selecting the course you're interested in, completing your registration, and making payment.\n",
      "    2. **Code Snippet**: N/A\n",
      "    3. **Example**: To enroll in a course on Upflairs, you can follow these steps:\n",
      "        - Visit the Upflairs website.\n",
      "        - Browse and select the course you're interested in.\n",
      "        - Click on the 'Enroll Now' button.\n",
      "        - Complete your registration by filling in your personal details.\n",
      "        - Choose a payment option and complete the payment process.\n",
      "        - Once the payment is confirmed, you will be officially enrolled in the course.\n"
     ]
    }
   ],
   "source": [
    "\n",
    "question = \"How can I enroll in a course?\"\n",
    "print(chain(question)['result'])"
   ]
  },
  {
   "cell_type": "code",
   "execution_count": 47,
   "metadata": {},
   "outputs": [
    {
     "name": "stdout",
     "output_type": "stream",
     "text": [
      "\n",
      "1. **Theoretical Explanation**: Upflairs offers a variety of courses in different fields such as Data Science, Machine Learning, DevOps, Full Stack Development, IoT, and System Embedding. These courses are designed to equip students with the necessary knowledge and skills to excel in their chosen field of study.\n",
      "\n",
      "2. **Code Snippet**: N/A\n",
      "\n",
      "3. **Example**: For example, if a student is interested in Data Science, Upflairs offers a comprehensive course covering topics such as data analysis, data visualization, and machine learning algorithms. This course will provide students with the necessary skills to work with large datasets and make data-driven decisions.\n",
      "\n",
      " \n"
     ]
    }
   ],
   "source": [
    "\n",
    "question = \"What courses does Upflairs offer?\"\n",
    "print(chain(question)['result'])"
   ]
  }
 ],
 "metadata": {
  "kernelspec": {
   "display_name": "Python 3",
   "language": "python",
   "name": "python3"
  },
  "language_info": {
   "codemirror_mode": {
    "name": "ipython",
    "version": 3
   },
   "file_extension": ".py",
   "mimetype": "text/x-python",
   "name": "python",
   "nbconvert_exporter": "python",
   "pygments_lexer": "ipython3",
   "version": "3.12.4"
  }
 },
 "nbformat": 4,
 "nbformat_minor": 2
}
