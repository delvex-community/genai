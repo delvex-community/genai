{
 "cells": [
  {
   "cell_type": "code",
   "execution_count": 5,
   "metadata": {},
   "outputs": [],
   "source": [
    "from langchain_openai import  OpenAI \n",
    "from langchain_community.document_loaders.csv_loader import  CSVLoader \n",
    "from langchain_community.document_loaders import  TextLoader\n",
    "from langchain.text_splitter import  RecursiveCharacterTextSplitter\n",
    "from langchain_openai import  OpenAIEmbeddings\n",
    "from langchain_community.vectorstores import FAISS\n",
    "from langchain_core.vectorstores import  VectorStoreRetriever \n",
    "from langchain.chains import RetrievalQA \n",
    "import os "
   ]
  },
  {
   "cell_type": "code",
   "execution_count": 7,
   "metadata": {},
   "outputs": [],
   "source": [
    "os.environ['OPENAI_API_KEY'] = os.getenv(\"gpt_api_key\")"
   ]
  },
  {
   "cell_type": "code",
   "execution_count": 12,
   "metadata": {},
   "outputs": [],
   "source": [
    "## Reading data from csv file \n",
    "loader = CSVLoader(file_path='question.csv', source_column=\"Question\")\n",
    "data = loader.load()\n"
   ]
  },
  {
   "cell_type": "code",
   "execution_count": 14,
   "metadata": {},
   "outputs": [],
   "source": [
    "vectordb_file_path = \"fais_index\"\n",
    "embeding = OpenAIEmbeddings()\n",
    "vectordb = FAISS.from_documents(data,embeding)\n",
    "\n",
    "# Save vector database locally\n",
    "vectordb.save_local(vectordb_file_path)"
   ]
  },
  {
   "cell_type": "code",
   "execution_count": 16,
   "metadata": {},
   "outputs": [
    {
     "name": "stdout",
     "output_type": "stream",
     "text": [
      "print('Hello, World!')\n"
     ]
    }
   ],
   "source": [
    "query_answer = vectordb.similarity_search(\"how we can print hello world in python?\")\n",
    "page_content = query_answer[0].page_content\n",
    "\n",
    "# Split the content at \"Answer:\" and get the part after it\n",
    "answer = page_content.split(\"Answer:\")[1].strip()\n",
    "\n",
    "print(answer)"
   ]
  },
  {
   "cell_type": "code",
   "execution_count": 17,
   "metadata": {},
   "outputs": [
    {
     "name": "stdout",
     "output_type": "stream",
     "text": [
      "[x**2 for x in range(1, 6)]\n"
     ]
    }
   ],
   "source": [
    "query_answer = vectordb.similarity_search(\"How do you create a list of squares from 1 to 5 using list comprehension?\")\n",
    "page_content = query_answer[0].page_content\n",
    "\n",
    "# Split the content at \"Answer:\" and get the part after it\n",
    "answer = page_content.split(\"Answer:\")[1].strip()\n",
    "\n",
    "print(answer)"
   ]
  },
  {
   "cell_type": "code",
   "execution_count": null,
   "metadata": {},
   "outputs": [],
   "source": []
  },
  {
   "cell_type": "code",
   "execution_count": null,
   "metadata": {},
   "outputs": [],
   "source": []
  },
  {
   "cell_type": "code",
   "execution_count": null,
   "metadata": {},
   "outputs": [],
   "source": []
  },
  {
   "cell_type": "code",
   "execution_count": null,
   "metadata": {},
   "outputs": [],
   "source": []
  }
 ],
 "metadata": {
  "kernelspec": {
   "display_name": "Python 3",
   "language": "python",
   "name": "python3"
  },
  "language_info": {
   "codemirror_mode": {
    "name": "ipython",
    "version": 3
   },
   "file_extension": ".py",
   "mimetype": "text/x-python",
   "name": "python",
   "nbconvert_exporter": "python",
   "pygments_lexer": "ipython3",
   "version": "3.12.4"
  }
 },
 "nbformat": 4,
 "nbformat_minor": 2
}
