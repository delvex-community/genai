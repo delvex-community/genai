{
 "cells": [
  {
   "cell_type": "markdown",
   "metadata": {},
   "source": [
    ">>> ### Fine-Tuning Gpt model on upflairs dataset \n"
   ]
  },
  {
   "cell_type": "code",
   "execution_count": 3,
   "metadata": {},
   "outputs": [],
   "source": [
    "import numpy as np \n",
    "import pandas as pd \n",
    "from openai import OpenAI "
   ]
  },
  {
   "cell_type": "code",
   "execution_count": 4,
   "metadata": {},
   "outputs": [
    {
     "data": {
      "text/html": [
       "<div>\n",
       "<style scoped>\n",
       "    .dataframe tbody tr th:only-of-type {\n",
       "        vertical-align: middle;\n",
       "    }\n",
       "\n",
       "    .dataframe tbody tr th {\n",
       "        vertical-align: top;\n",
       "    }\n",
       "\n",
       "    .dataframe thead th {\n",
       "        text-align: right;\n",
       "    }\n",
       "</style>\n",
       "<table border=\"1\" class=\"dataframe\">\n",
       "  <thead>\n",
       "    <tr style=\"text-align: right;\">\n",
       "      <th></th>\n",
       "      <th>Question</th>\n",
       "      <th>Answer</th>\n",
       "    </tr>\n",
       "  </thead>\n",
       "  <tbody>\n",
       "    <tr>\n",
       "      <th>0</th>\n",
       "      <td>What makes your courses different from others?</td>\n",
       "      <td>Our courses are designed with industry-specifi...</td>\n",
       "    </tr>\n",
       "    <tr>\n",
       "      <th>1</th>\n",
       "      <td>Do I need any prior experience or skills befor...</td>\n",
       "      <td>Most of our courses are beginner-friendly and ...</td>\n",
       "    </tr>\n",
       "    <tr>\n",
       "      <th>2</th>\n",
       "      <td>What kind of learning support can I expect dur...</td>\n",
       "      <td>We provide live sessions, doubt-clearing forum...</td>\n",
       "    </tr>\n",
       "    <tr>\n",
       "      <th>3</th>\n",
       "      <td>How are the classes conducted?</td>\n",
       "      <td>Classes are conducted online through live sess...</td>\n",
       "    </tr>\n",
       "    <tr>\n",
       "      <th>4</th>\n",
       "      <td>Do you provide certifications after completing...</td>\n",
       "      <td>Yes, every course completion comes with a cert...</td>\n",
       "    </tr>\n",
       "  </tbody>\n",
       "</table>\n",
       "</div>"
      ],
      "text/plain": [
       "                                            Question  \\\n",
       "0     What makes your courses different from others?   \n",
       "1  Do I need any prior experience or skills befor...   \n",
       "2  What kind of learning support can I expect dur...   \n",
       "3                     How are the classes conducted?   \n",
       "4  Do you provide certifications after completing...   \n",
       "\n",
       "                                              Answer  \n",
       "0  Our courses are designed with industry-specifi...  \n",
       "1  Most of our courses are beginner-friendly and ...  \n",
       "2  We provide live sessions, doubt-clearing forum...  \n",
       "3  Classes are conducted online through live sess...  \n",
       "4  Yes, every course completion comes with a cert...  "
      ]
     },
     "execution_count": 4,
     "metadata": {},
     "output_type": "execute_result"
    }
   ],
   "source": [
    "common_question = pd.read_csv(r'raw_data/common_question.csv')\n",
    "common_question.head()\n"
   ]
  },
  {
   "cell_type": "code",
   "execution_count": 5,
   "metadata": {},
   "outputs": [
    {
     "data": {
      "text/html": [
       "<div>\n",
       "<style scoped>\n",
       "    .dataframe tbody tr th:only-of-type {\n",
       "        vertical-align: middle;\n",
       "    }\n",
       "\n",
       "    .dataframe tbody tr th {\n",
       "        vertical-align: top;\n",
       "    }\n",
       "\n",
       "    .dataframe thead th {\n",
       "        text-align: right;\n",
       "    }\n",
       "</style>\n",
       "<table border=\"1\" class=\"dataframe\">\n",
       "  <thead>\n",
       "    <tr style=\"text-align: right;\">\n",
       "      <th></th>\n",
       "      <th>Question</th>\n",
       "      <th>Answer</th>\n",
       "    </tr>\n",
       "  </thead>\n",
       "  <tbody>\n",
       "    <tr>\n",
       "      <th>0</th>\n",
       "      <td>What programming languages are taught in the F...</td>\n",
       "      <td>Our Full Stack Development course covers HTML,...</td>\n",
       "    </tr>\n",
       "    <tr>\n",
       "      <th>1</th>\n",
       "      <td>What frameworks and libraries are used in this...</td>\n",
       "      <td>We cover popular frameworks like React.js and ...</td>\n",
       "    </tr>\n",
       "    <tr>\n",
       "      <th>2</th>\n",
       "      <td>Will I learn database management in the Full S...</td>\n",
       "      <td>Yes, we teach SQL-based databases like MySQL a...</td>\n",
       "    </tr>\n",
       "    <tr>\n",
       "      <th>3</th>\n",
       "      <td>I am a beginner with no coding experience. Can...</td>\n",
       "      <td>Absolutely! This course is designed for beginn...</td>\n",
       "    </tr>\n",
       "    <tr>\n",
       "      <th>4</th>\n",
       "      <td>What is the duration of the Full Stack Develop...</td>\n",
       "      <td>The course typically lasts 12-16 weeks, depend...</td>\n",
       "    </tr>\n",
       "  </tbody>\n",
       "</table>\n",
       "</div>"
      ],
      "text/plain": [
       "                                            Question  \\\n",
       "0  What programming languages are taught in the F...   \n",
       "1  What frameworks and libraries are used in this...   \n",
       "2  Will I learn database management in the Full S...   \n",
       "3  I am a beginner with no coding experience. Can...   \n",
       "4  What is the duration of the Full Stack Develop...   \n",
       "\n",
       "                                              Answer  \n",
       "0  Our Full Stack Development course covers HTML,...  \n",
       "1  We cover popular frameworks like React.js and ...  \n",
       "2  Yes, we teach SQL-based databases like MySQL a...  \n",
       "3  Absolutely! This course is designed for beginn...  \n",
       "4  The course typically lasts 12-16 weeks, depend...  "
      ]
     },
     "execution_count": 5,
     "metadata": {},
     "output_type": "execute_result"
    }
   ],
   "source": [
    "fullstack_ques = pd.read_csv(r'raw_data/fullstackdevelop.csv')\n",
    "fullstack_ques.head()"
   ]
  },
  {
   "cell_type": "code",
   "execution_count": 6,
   "metadata": {},
   "outputs": [
    {
     "data": {
      "text/html": [
       "<div>\n",
       "<style scoped>\n",
       "    .dataframe tbody tr th:only-of-type {\n",
       "        vertical-align: middle;\n",
       "    }\n",
       "\n",
       "    .dataframe tbody tr th {\n",
       "        vertical-align: top;\n",
       "    }\n",
       "\n",
       "    .dataframe thead th {\n",
       "        text-align: right;\n",
       "    }\n",
       "</style>\n",
       "<table border=\"1\" class=\"dataframe\">\n",
       "  <thead>\n",
       "    <tr style=\"text-align: right;\">\n",
       "      <th></th>\n",
       "      <th>Question</th>\n",
       "      <th>Answer</th>\n",
       "    </tr>\n",
       "  </thead>\n",
       "  <tbody>\n",
       "    <tr>\n",
       "      <th>0</th>\n",
       "      <td>What programming languages are covered in the ...</td>\n",
       "      <td>Our Data Science course covers Python and R as...</td>\n",
       "    </tr>\n",
       "    <tr>\n",
       "      <th>1</th>\n",
       "      <td>What kind of projects will I work on in the Da...</td>\n",
       "      <td>You will work on projects like Predictive Mode...</td>\n",
       "    </tr>\n",
       "    <tr>\n",
       "      <th>2</th>\n",
       "      <td>Do you cover machine learning algorithms in th...</td>\n",
       "      <td>Yes, we cover a variety of machine learning al...</td>\n",
       "    </tr>\n",
       "    <tr>\n",
       "      <th>3</th>\n",
       "      <td>I am a complete beginner in data science. Can ...</td>\n",
       "      <td>Yes, our course is designed for beginners, sta...</td>\n",
       "    </tr>\n",
       "    <tr>\n",
       "      <th>4</th>\n",
       "      <td>What is the duration of the Data Science course?</td>\n",
       "      <td>The Data Science course typically lasts 10-12 ...</td>\n",
       "    </tr>\n",
       "  </tbody>\n",
       "</table>\n",
       "</div>"
      ],
      "text/plain": [
       "                                            Question  \\\n",
       "0  What programming languages are covered in the ...   \n",
       "1  What kind of projects will I work on in the Da...   \n",
       "2  Do you cover machine learning algorithms in th...   \n",
       "3  I am a complete beginner in data science. Can ...   \n",
       "4   What is the duration of the Data Science course?   \n",
       "\n",
       "                                              Answer  \n",
       "0  Our Data Science course covers Python and R as...  \n",
       "1  You will work on projects like Predictive Mode...  \n",
       "2  Yes, we cover a variety of machine learning al...  \n",
       "3  Yes, our course is designed for beginners, sta...  \n",
       "4  The Data Science course typically lasts 10-12 ...  "
      ]
     },
     "execution_count": 6,
     "metadata": {},
     "output_type": "execute_result"
    }
   ],
   "source": [
    "datascience_ques = pd.read_csv(r'raw_data/datascienceques.csv')\n",
    "datascience_ques.head()"
   ]
  },
  {
   "cell_type": "code",
   "execution_count": 7,
   "metadata": {},
   "outputs": [
    {
     "data": {
      "text/html": [
       "<div>\n",
       "<style scoped>\n",
       "    .dataframe tbody tr th:only-of-type {\n",
       "        vertical-align: middle;\n",
       "    }\n",
       "\n",
       "    .dataframe tbody tr th {\n",
       "        vertical-align: top;\n",
       "    }\n",
       "\n",
       "    .dataframe thead th {\n",
       "        text-align: right;\n",
       "    }\n",
       "</style>\n",
       "<table border=\"1\" class=\"dataframe\">\n",
       "  <thead>\n",
       "    <tr style=\"text-align: right;\">\n",
       "      <th></th>\n",
       "      <th>Question</th>\n",
       "      <th>Answer</th>\n",
       "    </tr>\n",
       "  </thead>\n",
       "  <tbody>\n",
       "    <tr>\n",
       "      <th>0</th>\n",
       "      <td>I have never done programming in my life. Can ...</td>\n",
       "      <td>Yes, our courses at Upflairs are designed for ...</td>\n",
       "    </tr>\n",
       "    <tr>\n",
       "      <th>1</th>\n",
       "      <td>Why should I trust Upflairs?</td>\n",
       "      <td>Upflairs has a strong track record in deliveri...</td>\n",
       "    </tr>\n",
       "    <tr>\n",
       "      <th>2</th>\n",
       "      <td>What are the courses provided by Upflairs?</td>\n",
       "      <td>We specialize in courses for Data Science and ...</td>\n",
       "    </tr>\n",
       "    <tr>\n",
       "      <th>3</th>\n",
       "      <td>Is there any prerequisite for taking this course?</td>\n",
       "      <td>For beginner-level courses, no prior knowledge...</td>\n",
       "    </tr>\n",
       "    <tr>\n",
       "      <th>4</th>\n",
       "      <td>What datasets are used in this bootcamp? Is it...</td>\n",
       "      <td>We use real-world datasets that replicate indu...</td>\n",
       "    </tr>\n",
       "  </tbody>\n",
       "</table>\n",
       "</div>"
      ],
      "text/plain": [
       "                                            Question  \\\n",
       "0  I have never done programming in my life. Can ...   \n",
       "1                       Why should I trust Upflairs?   \n",
       "2         What are the courses provided by Upflairs?   \n",
       "3  Is there any prerequisite for taking this course?   \n",
       "4  What datasets are used in this bootcamp? Is it...   \n",
       "\n",
       "                                              Answer  \n",
       "0  Yes, our courses at Upflairs are designed for ...  \n",
       "1  Upflairs has a strong track record in deliveri...  \n",
       "2  We specialize in courses for Data Science and ...  \n",
       "3  For beginner-level courses, no prior knowledge...  \n",
       "4  We use real-world datasets that replicate indu...  "
      ]
     },
     "execution_count": 7,
     "metadata": {},
     "output_type": "execute_result"
    }
   ],
   "source": [
    "upflairs_ques = pd.read_csv(r'raw_data/upflairs_data.csv')\n",
    "upflairs_ques.head()"
   ]
  },
  {
   "cell_type": "code",
   "execution_count": 8,
   "metadata": {},
   "outputs": [
    {
     "data": {
      "text/html": [
       "<div>\n",
       "<style scoped>\n",
       "    .dataframe tbody tr th:only-of-type {\n",
       "        vertical-align: middle;\n",
       "    }\n",
       "\n",
       "    .dataframe tbody tr th {\n",
       "        vertical-align: top;\n",
       "    }\n",
       "\n",
       "    .dataframe thead th {\n",
       "        text-align: right;\n",
       "    }\n",
       "</style>\n",
       "<table border=\"1\" class=\"dataframe\">\n",
       "  <thead>\n",
       "    <tr style=\"text-align: right;\">\n",
       "      <th></th>\n",
       "      <th>Question</th>\n",
       "      <th>Answer</th>\n",
       "    </tr>\n",
       "  </thead>\n",
       "  <tbody>\n",
       "    <tr>\n",
       "      <th>0</th>\n",
       "      <td>What makes your courses different from others?</td>\n",
       "      <td>Our courses are designed with industry-specifi...</td>\n",
       "    </tr>\n",
       "    <tr>\n",
       "      <th>1</th>\n",
       "      <td>Do I need any prior experience or skills befor...</td>\n",
       "      <td>Most of our courses are beginner-friendly and ...</td>\n",
       "    </tr>\n",
       "    <tr>\n",
       "      <th>2</th>\n",
       "      <td>What kind of learning support can I expect dur...</td>\n",
       "      <td>We provide live sessions, doubt-clearing forum...</td>\n",
       "    </tr>\n",
       "    <tr>\n",
       "      <th>3</th>\n",
       "      <td>How are the classes conducted?</td>\n",
       "      <td>Classes are conducted online through live sess...</td>\n",
       "    </tr>\n",
       "    <tr>\n",
       "      <th>4</th>\n",
       "      <td>Do you provide certifications after completing...</td>\n",
       "      <td>Yes, every course completion comes with a cert...</td>\n",
       "    </tr>\n",
       "  </tbody>\n",
       "</table>\n",
       "</div>"
      ],
      "text/plain": [
       "                                            Question  \\\n",
       "0     What makes your courses different from others?   \n",
       "1  Do I need any prior experience or skills befor...   \n",
       "2  What kind of learning support can I expect dur...   \n",
       "3                     How are the classes conducted?   \n",
       "4  Do you provide certifications after completing...   \n",
       "\n",
       "                                              Answer  \n",
       "0  Our courses are designed with industry-specifi...  \n",
       "1  Most of our courses are beginner-friendly and ...  \n",
       "2  We provide live sessions, doubt-clearing forum...  \n",
       "3  Classes are conducted online through live sess...  \n",
       "4  Yes, every course completion comes with a cert...  "
      ]
     },
     "execution_count": 8,
     "metadata": {},
     "output_type": "execute_result"
    }
   ],
   "source": [
    "### complete question \n",
    "complete_df = pd.concat([common_question,fullstack_ques,datascience_ques,upflairs_ques])\n",
    "complete_df.head()"
   ]
  },
  {
   "cell_type": "code",
   "execution_count": 9,
   "metadata": {},
   "outputs": [
    {
     "name": "stdout",
     "output_type": "stream",
     "text": [
      "No of recored in dataframe :  (68, 2)\n"
     ]
    }
   ],
   "source": [
    "print(\"No of recored in dataframe : \", complete_df.shape )"
   ]
  },
  {
   "cell_type": "code",
   "execution_count": 10,
   "metadata": {},
   "outputs": [],
   "source": [
    "complete_df.to_csv('raw_data/complete_df.csv',index=False)"
   ]
  }
 ],
 "metadata": {
  "kernelspec": {
   "display_name": "Python 3",
   "language": "python",
   "name": "python3"
  },
  "language_info": {
   "codemirror_mode": {
    "name": "ipython",
    "version": 3
   },
   "file_extension": ".py",
   "mimetype": "text/x-python",
   "name": "python",
   "nbconvert_exporter": "python",
   "pygments_lexer": "ipython3",
   "version": "3.12.4"
  }
 },
 "nbformat": 4,
 "nbformat_minor": 2
}
