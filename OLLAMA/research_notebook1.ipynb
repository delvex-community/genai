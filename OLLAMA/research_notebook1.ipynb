{
 "cells": [
  {
   "cell_type": "markdown",
   "metadata": {},
   "source": [
    "### Domain-Specific RAG Chatbot with Llama 3.2 (1B) via Ollama<br>\n",
    "<p>A Retrieval-Augmented Generation (RAG) chatbot using the Llama 3.2 (1B) model, deployed locally with Ollama for fast, domain-specific responses.</p>"
   ]
  },
  {
   "cell_type": "code",
   "execution_count": 1,
   "metadata": {},
   "outputs": [],
   "source": [
    "from langchain_community.document_loaders.csv_loader import  CSVLoader \n",
    "from langchain_openai import  OpenAIEmbeddings\n",
    "from langchain_community.vectorstores import FAISS\n",
    "from langchain_core.vectorstores import  VectorStoreRetriever \n",
    "from langchain.chains import RetrievalQA \n",
    "from langchain.prompts import PromptTemplate\n",
    "import pandas as pd \n",
    "import numpy as np \n",
    "from dotenv import  load_dotenv \n",
    "load_dotenv()\n",
    "import os "
   ]
  },
  {
   "cell_type": "code",
   "execution_count": 2,
   "metadata": {},
   "outputs": [
    {
     "name": "stderr",
     "output_type": "stream",
     "text": [
      "C:\\Users\\Ranjit\\AppData\\Local\\Temp\\ipykernel_120\\1572931296.py:5: LangChainDeprecationWarning: The class `ChatOllama` was deprecated in LangChain 0.3.1 and will be removed in 1.0.0. An updated version of the class exists in the :class:`~langchain-ollama package and should be used instead. To use it run `pip install -U :class:`~langchain-ollama` and import as `from :class:`~langchain_ollama import ChatOllama``.\n",
      "  llm = ChatOllama(model=\"llama3.2:1b\")\n"
     ]
    }
   ],
   "source": [
    "from langchain_community.chat_models import ChatOllama\n",
    "from langchain.schema import HumanMessage  \n",
    "\n",
    "# Initialize the ChatOllama model\n",
    "llm = ChatOllama(model=\"llama3.2:1b\")"
   ]
  },
  {
   "cell_type": "code",
   "execution_count": 3,
   "metadata": {},
   "outputs": [
    {
     "name": "stderr",
     "output_type": "stream",
     "text": [
      "C:\\Users\\Ranjit\\AppData\\Local\\Temp\\ipykernel_120\\2217754082.py:2: LangChainDeprecationWarning: The method `BaseChatModel.__call__` was deprecated in langchain-core 0.1.7 and will be removed in 1.0. Use :meth:`~invoke` instead.\n",
      "  response = llm(messages=[message])\n"
     ]
    },
    {
     "name": "stdout",
     "output_type": "stream",
     "text": [
      "Python is a high-level, interpreted programming language that was created in the late 1980s by Guido van Rossum. It is known for its simplicity, readability, and ease of use, making it a popular choice for beginners and experienced programmers alike.\n",
      "\n",
      "Here are some key features that make Python unique:\n",
      "\n",
      "1. **Easy to learn**: Python has a relatively simple syntax, which makes it easy for new programmers to learn and understand.\n",
      "2. **High-level language**: Python abstracts away many low-level details, allowing programmers to focus on the logic of their program without worrying about memory management, file I/O, and other tasks that are handled by the language.\n",
      "3. **Interpreted language**: Python code is executed line-by-line, which makes it fast and efficient.\n",
      "4. **Dynamic typing**: Python is dynamically typed, which means that you don't need to declare variable types before using them. This allows for more flexibility and ease of use.\n",
      "5. **Object-oriented programming (OOP)**: Python supports OOP concepts like encapsulation, inheritance, and polymorphism, making it a popular choice for developing large-scale applications.\n",
      "6. **Extensive libraries**: Python has a vast collection of libraries and frameworks that make it easy to perform various tasks, such as data analysis, web development, and machine learning.\n",
      "\n",
      "Some common use cases for Python include:\n",
      "\n",
      "1. **Data science and analytics**: Python is widely used in data science and analytics for tasks like data cleaning, visualization, and modeling.\n",
      "2. **Web development**: Python can be used to build web applications using frameworks like Django and Flask.\n",
      "3. **Automation**: Python can be used to automate tasks and workflows using libraries like Zapier and Automator.\n",
      "4. **Artificial intelligence and machine learning**: Python is used in AI and ML for tasks like natural language processing, image recognition, and predictive modeling.\n",
      "5. **Scientific computing**: Python can be used for scientific computing tasks like data analysis, visualization, and simulation.\n",
      "\n",
      "Some popular Python applications include:\n",
      "\n",
      "1. **Python scripting**: Python can be used to automate tasks, create scripts, and develop small applications.\n",
      "2. **Web development**: Python web frameworks like Django and Flask make it easy to build scalable and efficient web applications.\n",
      "3. **Data science**: Libraries like NumPy, pandas, and scikit-learn make it easy to analyze and visualize data.\n",
      "4. **Automation tools**: Tools like Zapier and Automator allow users to automate repetitive tasks using Python.\n",
      "\n",
      "Overall, Python is a versatile and powerful language that has many uses and applications in various fields.\n"
     ]
    }
   ],
   "source": [
    "message = HumanMessage(content=\"what is python?\")\n",
    "response = llm(messages=[message])\n",
    "print(response.content)\n"
   ]
  },
  {
   "cell_type": "code",
   "execution_count": 4,
   "metadata": {},
   "outputs": [
    {
     "name": "stdout",
     "output_type": "stream",
     "text": [
      "loaded data from the csv files\n"
     ]
    }
   ],
   "source": [
    "final_data_file_path ='final_data.csv'\n",
    "loader = CSVLoader(file_path=final_data_file_path, source_column=\"Question\")\n",
    "data = loader.load()\n",
    "print(\"loaded data from the csv files\")"
   ]
  },
  {
   "cell_type": "code",
   "execution_count": 12,
   "metadata": {},
   "outputs": [
    {
     "name": "stdout",
     "output_type": "stream",
     "text": [
      "Totoal no. of question and answer : 39\n"
     ]
    }
   ],
   "source": [
    "print(f\"Totoal no. of question and answer : {len(data)}\")"
   ]
  },
  {
   "cell_type": "code",
   "execution_count": 5,
   "metadata": {},
   "outputs": [
    {
     "ename": "AuthenticationError",
     "evalue": "Error code: 401 - {'error': {'message': 'Incorrect API key provided: sk-proj-********************************************************************************************************************************************************RY0A. You can find your API key at https://platform.openai.com/account/api-keys.', 'type': 'invalid_request_error', 'param': None, 'code': 'invalid_api_key'}}",
     "output_type": "error",
     "traceback": [
      "\u001b[1;31m---------------------------------------------------------------------------\u001b[0m",
      "\u001b[1;31mAuthenticationError\u001b[0m                       Traceback (most recent call last)",
      "Cell \u001b[1;32mIn[5], line 7\u001b[0m\n\u001b[0;32m      5\u001b[0m vectordb_file_path \u001b[38;5;241m=\u001b[39m \u001b[38;5;124m\"\u001b[39m\u001b[38;5;124mfais_index\u001b[39m\u001b[38;5;124m\"\u001b[39m\n\u001b[0;32m      6\u001b[0m embeding \u001b[38;5;241m=\u001b[39m OpenAIEmbeddings(api_key\u001b[38;5;241m=\u001b[39mopenai_api)\n\u001b[1;32m----> 7\u001b[0m vectordb \u001b[38;5;241m=\u001b[39m \u001b[43mFAISS\u001b[49m\u001b[38;5;241;43m.\u001b[39;49m\u001b[43mfrom_documents\u001b[49m\u001b[43m(\u001b[49m\u001b[43mdata\u001b[49m\u001b[43m,\u001b[49m\u001b[43membeding\u001b[49m\u001b[43m)\u001b[49m\n\u001b[0;32m      9\u001b[0m \u001b[38;5;66;03m# # Save vector database locally\u001b[39;00m\n\u001b[0;32m     10\u001b[0m vectordb\u001b[38;5;241m.\u001b[39msave_local(vectordb_file_path)\n",
      "File \u001b[1;32mc:\\Users\\Ranjit\\AppData\\Local\\Programs\\Python\\Python312\\Lib\\site-packages\\langchain_core\\vectorstores\\base.py:852\u001b[0m, in \u001b[0;36mVectorStore.from_documents\u001b[1;34m(cls, documents, embedding, **kwargs)\u001b[0m\n\u001b[0;32m    849\u001b[0m     \u001b[38;5;28;01mif\u001b[39;00m \u001b[38;5;28many\u001b[39m(ids):\n\u001b[0;32m    850\u001b[0m         kwargs[\u001b[38;5;124m\"\u001b[39m\u001b[38;5;124mids\u001b[39m\u001b[38;5;124m\"\u001b[39m] \u001b[38;5;241m=\u001b[39m ids\n\u001b[1;32m--> 852\u001b[0m \u001b[38;5;28;01mreturn\u001b[39;00m \u001b[38;5;28;43mcls\u001b[39;49m\u001b[38;5;241;43m.\u001b[39;49m\u001b[43mfrom_texts\u001b[49m\u001b[43m(\u001b[49m\u001b[43mtexts\u001b[49m\u001b[43m,\u001b[49m\u001b[43m \u001b[49m\u001b[43membedding\u001b[49m\u001b[43m,\u001b[49m\u001b[43m \u001b[49m\u001b[43mmetadatas\u001b[49m\u001b[38;5;241;43m=\u001b[39;49m\u001b[43mmetadatas\u001b[49m\u001b[43m,\u001b[49m\u001b[43m \u001b[49m\u001b[38;5;241;43m*\u001b[39;49m\u001b[38;5;241;43m*\u001b[39;49m\u001b[43mkwargs\u001b[49m\u001b[43m)\u001b[49m\n",
      "File \u001b[1;32mc:\\Users\\Ranjit\\AppData\\Local\\Programs\\Python\\Python312\\Lib\\site-packages\\langchain_community\\vectorstores\\faiss.py:1041\u001b[0m, in \u001b[0;36mFAISS.from_texts\u001b[1;34m(cls, texts, embedding, metadatas, ids, **kwargs)\u001b[0m\n\u001b[0;32m   1014\u001b[0m \u001b[38;5;129m@classmethod\u001b[39m\n\u001b[0;32m   1015\u001b[0m \u001b[38;5;28;01mdef\u001b[39;00m \u001b[38;5;21mfrom_texts\u001b[39m(\n\u001b[0;32m   1016\u001b[0m     \u001b[38;5;28mcls\u001b[39m,\n\u001b[1;32m   (...)\u001b[0m\n\u001b[0;32m   1021\u001b[0m     \u001b[38;5;241m*\u001b[39m\u001b[38;5;241m*\u001b[39mkwargs: Any,\n\u001b[0;32m   1022\u001b[0m ) \u001b[38;5;241m-\u001b[39m\u001b[38;5;241m>\u001b[39m FAISS:\n\u001b[0;32m   1023\u001b[0m \u001b[38;5;250m    \u001b[39m\u001b[38;5;124;03m\"\"\"Construct FAISS wrapper from raw documents.\u001b[39;00m\n\u001b[0;32m   1024\u001b[0m \n\u001b[0;32m   1025\u001b[0m \u001b[38;5;124;03m    This is a user friendly interface that:\u001b[39;00m\n\u001b[1;32m   (...)\u001b[0m\n\u001b[0;32m   1039\u001b[0m \u001b[38;5;124;03m            faiss = FAISS.from_texts(texts, embeddings)\u001b[39;00m\n\u001b[0;32m   1040\u001b[0m \u001b[38;5;124;03m    \"\"\"\u001b[39;00m\n\u001b[1;32m-> 1041\u001b[0m     embeddings \u001b[38;5;241m=\u001b[39m \u001b[43membedding\u001b[49m\u001b[38;5;241;43m.\u001b[39;49m\u001b[43membed_documents\u001b[49m\u001b[43m(\u001b[49m\u001b[43mtexts\u001b[49m\u001b[43m)\u001b[49m\n\u001b[0;32m   1042\u001b[0m     \u001b[38;5;28;01mreturn\u001b[39;00m \u001b[38;5;28mcls\u001b[39m\u001b[38;5;241m.\u001b[39m__from(\n\u001b[0;32m   1043\u001b[0m         texts,\n\u001b[0;32m   1044\u001b[0m         embeddings,\n\u001b[1;32m   (...)\u001b[0m\n\u001b[0;32m   1048\u001b[0m         \u001b[38;5;241m*\u001b[39m\u001b[38;5;241m*\u001b[39mkwargs,\n\u001b[0;32m   1049\u001b[0m     )\n",
      "File \u001b[1;32mc:\\Users\\Ranjit\\AppData\\Local\\Programs\\Python\\Python312\\Lib\\site-packages\\langchain_openai\\embeddings\\base.py:588\u001b[0m, in \u001b[0;36mOpenAIEmbeddings.embed_documents\u001b[1;34m(self, texts, chunk_size)\u001b[0m\n\u001b[0;32m    585\u001b[0m \u001b[38;5;66;03m# NOTE: to keep things simple, we assume the list may contain texts longer\u001b[39;00m\n\u001b[0;32m    586\u001b[0m \u001b[38;5;66;03m#       than the maximum context and use length-safe embedding function.\u001b[39;00m\n\u001b[0;32m    587\u001b[0m engine \u001b[38;5;241m=\u001b[39m cast(\u001b[38;5;28mstr\u001b[39m, \u001b[38;5;28mself\u001b[39m\u001b[38;5;241m.\u001b[39mdeployment)\n\u001b[1;32m--> 588\u001b[0m \u001b[38;5;28;01mreturn\u001b[39;00m \u001b[38;5;28;43mself\u001b[39;49m\u001b[38;5;241;43m.\u001b[39;49m\u001b[43m_get_len_safe_embeddings\u001b[49m\u001b[43m(\u001b[49m\u001b[43mtexts\u001b[49m\u001b[43m,\u001b[49m\u001b[43m \u001b[49m\u001b[43mengine\u001b[49m\u001b[38;5;241;43m=\u001b[39;49m\u001b[43mengine\u001b[49m\u001b[43m)\u001b[49m\n",
      "File \u001b[1;32mc:\\Users\\Ranjit\\AppData\\Local\\Programs\\Python\\Python312\\Lib\\site-packages\\langchain_openai\\embeddings\\base.py:483\u001b[0m, in \u001b[0;36mOpenAIEmbeddings._get_len_safe_embeddings\u001b[1;34m(self, texts, engine, chunk_size)\u001b[0m\n\u001b[0;32m    481\u001b[0m batched_embeddings: List[List[\u001b[38;5;28mfloat\u001b[39m]] \u001b[38;5;241m=\u001b[39m []\n\u001b[0;32m    482\u001b[0m \u001b[38;5;28;01mfor\u001b[39;00m i \u001b[38;5;129;01min\u001b[39;00m _iter:\n\u001b[1;32m--> 483\u001b[0m     response \u001b[38;5;241m=\u001b[39m \u001b[38;5;28;43mself\u001b[39;49m\u001b[38;5;241;43m.\u001b[39;49m\u001b[43mclient\u001b[49m\u001b[38;5;241;43m.\u001b[39;49m\u001b[43mcreate\u001b[49m\u001b[43m(\u001b[49m\n\u001b[0;32m    484\u001b[0m \u001b[43m        \u001b[49m\u001b[38;5;28;43minput\u001b[39;49m\u001b[38;5;241;43m=\u001b[39;49m\u001b[43mtokens\u001b[49m\u001b[43m[\u001b[49m\u001b[43mi\u001b[49m\u001b[43m \u001b[49m\u001b[43m:\u001b[49m\u001b[43m \u001b[49m\u001b[43mi\u001b[49m\u001b[43m \u001b[49m\u001b[38;5;241;43m+\u001b[39;49m\u001b[43m \u001b[49m\u001b[43m_chunk_size\u001b[49m\u001b[43m]\u001b[49m\u001b[43m,\u001b[49m\u001b[43m \u001b[49m\u001b[38;5;241;43m*\u001b[39;49m\u001b[38;5;241;43m*\u001b[39;49m\u001b[38;5;28;43mself\u001b[39;49m\u001b[38;5;241;43m.\u001b[39;49m\u001b[43m_invocation_params\u001b[49m\n\u001b[0;32m    485\u001b[0m \u001b[43m    \u001b[49m\u001b[43m)\u001b[49m\n\u001b[0;32m    486\u001b[0m     \u001b[38;5;28;01mif\u001b[39;00m \u001b[38;5;129;01mnot\u001b[39;00m \u001b[38;5;28misinstance\u001b[39m(response, \u001b[38;5;28mdict\u001b[39m):\n\u001b[0;32m    487\u001b[0m         response \u001b[38;5;241m=\u001b[39m response\u001b[38;5;241m.\u001b[39mmodel_dump()\n",
      "File \u001b[1;32mc:\\Users\\Ranjit\\AppData\\Local\\Programs\\Python\\Python312\\Lib\\site-packages\\openai\\resources\\embeddings.py:124\u001b[0m, in \u001b[0;36mEmbeddings.create\u001b[1;34m(self, input, model, dimensions, encoding_format, user, extra_headers, extra_query, extra_body, timeout)\u001b[0m\n\u001b[0;32m    118\u001b[0m         embedding\u001b[38;5;241m.\u001b[39membedding \u001b[38;5;241m=\u001b[39m np\u001b[38;5;241m.\u001b[39mfrombuffer(  \u001b[38;5;66;03m# type: ignore[no-untyped-call]\u001b[39;00m\n\u001b[0;32m    119\u001b[0m             base64\u001b[38;5;241m.\u001b[39mb64decode(data), dtype\u001b[38;5;241m=\u001b[39m\u001b[38;5;124m\"\u001b[39m\u001b[38;5;124mfloat32\u001b[39m\u001b[38;5;124m\"\u001b[39m\n\u001b[0;32m    120\u001b[0m         )\u001b[38;5;241m.\u001b[39mtolist()\n\u001b[0;32m    122\u001b[0m     \u001b[38;5;28;01mreturn\u001b[39;00m obj\n\u001b[1;32m--> 124\u001b[0m \u001b[38;5;28;01mreturn\u001b[39;00m \u001b[38;5;28;43mself\u001b[39;49m\u001b[38;5;241;43m.\u001b[39;49m\u001b[43m_post\u001b[49m\u001b[43m(\u001b[49m\n\u001b[0;32m    125\u001b[0m \u001b[43m    \u001b[49m\u001b[38;5;124;43m\"\u001b[39;49m\u001b[38;5;124;43m/embeddings\u001b[39;49m\u001b[38;5;124;43m\"\u001b[39;49m\u001b[43m,\u001b[49m\n\u001b[0;32m    126\u001b[0m \u001b[43m    \u001b[49m\u001b[43mbody\u001b[49m\u001b[38;5;241;43m=\u001b[39;49m\u001b[43mmaybe_transform\u001b[49m\u001b[43m(\u001b[49m\u001b[43mparams\u001b[49m\u001b[43m,\u001b[49m\u001b[43m \u001b[49m\u001b[43membedding_create_params\u001b[49m\u001b[38;5;241;43m.\u001b[39;49m\u001b[43mEmbeddingCreateParams\u001b[49m\u001b[43m)\u001b[49m\u001b[43m,\u001b[49m\n\u001b[0;32m    127\u001b[0m \u001b[43m    \u001b[49m\u001b[43moptions\u001b[49m\u001b[38;5;241;43m=\u001b[39;49m\u001b[43mmake_request_options\u001b[49m\u001b[43m(\u001b[49m\n\u001b[0;32m    128\u001b[0m \u001b[43m        \u001b[49m\u001b[43mextra_headers\u001b[49m\u001b[38;5;241;43m=\u001b[39;49m\u001b[43mextra_headers\u001b[49m\u001b[43m,\u001b[49m\n\u001b[0;32m    129\u001b[0m \u001b[43m        \u001b[49m\u001b[43mextra_query\u001b[49m\u001b[38;5;241;43m=\u001b[39;49m\u001b[43mextra_query\u001b[49m\u001b[43m,\u001b[49m\n\u001b[0;32m    130\u001b[0m \u001b[43m        \u001b[49m\u001b[43mextra_body\u001b[49m\u001b[38;5;241;43m=\u001b[39;49m\u001b[43mextra_body\u001b[49m\u001b[43m,\u001b[49m\n\u001b[0;32m    131\u001b[0m \u001b[43m        \u001b[49m\u001b[43mtimeout\u001b[49m\u001b[38;5;241;43m=\u001b[39;49m\u001b[43mtimeout\u001b[49m\u001b[43m,\u001b[49m\n\u001b[0;32m    132\u001b[0m \u001b[43m        \u001b[49m\u001b[43mpost_parser\u001b[49m\u001b[38;5;241;43m=\u001b[39;49m\u001b[43mparser\u001b[49m\u001b[43m,\u001b[49m\n\u001b[0;32m    133\u001b[0m \u001b[43m    \u001b[49m\u001b[43m)\u001b[49m\u001b[43m,\u001b[49m\n\u001b[0;32m    134\u001b[0m \u001b[43m    \u001b[49m\u001b[43mcast_to\u001b[49m\u001b[38;5;241;43m=\u001b[39;49m\u001b[43mCreateEmbeddingResponse\u001b[49m\u001b[43m,\u001b[49m\n\u001b[0;32m    135\u001b[0m \u001b[43m\u001b[49m\u001b[43m)\u001b[49m\n",
      "File \u001b[1;32mc:\\Users\\Ranjit\\AppData\\Local\\Programs\\Python\\Python312\\Lib\\site-packages\\openai\\_base_client.py:1270\u001b[0m, in \u001b[0;36mSyncAPIClient.post\u001b[1;34m(self, path, cast_to, body, options, files, stream, stream_cls)\u001b[0m\n\u001b[0;32m   1256\u001b[0m \u001b[38;5;28;01mdef\u001b[39;00m \u001b[38;5;21mpost\u001b[39m(\n\u001b[0;32m   1257\u001b[0m     \u001b[38;5;28mself\u001b[39m,\n\u001b[0;32m   1258\u001b[0m     path: \u001b[38;5;28mstr\u001b[39m,\n\u001b[1;32m   (...)\u001b[0m\n\u001b[0;32m   1265\u001b[0m     stream_cls: \u001b[38;5;28mtype\u001b[39m[_StreamT] \u001b[38;5;241m|\u001b[39m \u001b[38;5;28;01mNone\u001b[39;00m \u001b[38;5;241m=\u001b[39m \u001b[38;5;28;01mNone\u001b[39;00m,\n\u001b[0;32m   1266\u001b[0m ) \u001b[38;5;241m-\u001b[39m\u001b[38;5;241m>\u001b[39m ResponseT \u001b[38;5;241m|\u001b[39m _StreamT:\n\u001b[0;32m   1267\u001b[0m     opts \u001b[38;5;241m=\u001b[39m FinalRequestOptions\u001b[38;5;241m.\u001b[39mconstruct(\n\u001b[0;32m   1268\u001b[0m         method\u001b[38;5;241m=\u001b[39m\u001b[38;5;124m\"\u001b[39m\u001b[38;5;124mpost\u001b[39m\u001b[38;5;124m\"\u001b[39m, url\u001b[38;5;241m=\u001b[39mpath, json_data\u001b[38;5;241m=\u001b[39mbody, files\u001b[38;5;241m=\u001b[39mto_httpx_files(files), \u001b[38;5;241m*\u001b[39m\u001b[38;5;241m*\u001b[39moptions\n\u001b[0;32m   1269\u001b[0m     )\n\u001b[1;32m-> 1270\u001b[0m     \u001b[38;5;28;01mreturn\u001b[39;00m cast(ResponseT, \u001b[38;5;28;43mself\u001b[39;49m\u001b[38;5;241;43m.\u001b[39;49m\u001b[43mrequest\u001b[49m\u001b[43m(\u001b[49m\u001b[43mcast_to\u001b[49m\u001b[43m,\u001b[49m\u001b[43m \u001b[49m\u001b[43mopts\u001b[49m\u001b[43m,\u001b[49m\u001b[43m \u001b[49m\u001b[43mstream\u001b[49m\u001b[38;5;241;43m=\u001b[39;49m\u001b[43mstream\u001b[49m\u001b[43m,\u001b[49m\u001b[43m \u001b[49m\u001b[43mstream_cls\u001b[49m\u001b[38;5;241;43m=\u001b[39;49m\u001b[43mstream_cls\u001b[49m\u001b[43m)\u001b[49m)\n",
      "File \u001b[1;32mc:\\Users\\Ranjit\\AppData\\Local\\Programs\\Python\\Python312\\Lib\\site-packages\\openai\\_base_client.py:947\u001b[0m, in \u001b[0;36mSyncAPIClient.request\u001b[1;34m(self, cast_to, options, remaining_retries, stream, stream_cls)\u001b[0m\n\u001b[0;32m    944\u001b[0m \u001b[38;5;28;01melse\u001b[39;00m:\n\u001b[0;32m    945\u001b[0m     retries_taken \u001b[38;5;241m=\u001b[39m \u001b[38;5;241m0\u001b[39m\n\u001b[1;32m--> 947\u001b[0m \u001b[38;5;28;01mreturn\u001b[39;00m \u001b[38;5;28;43mself\u001b[39;49m\u001b[38;5;241;43m.\u001b[39;49m\u001b[43m_request\u001b[49m\u001b[43m(\u001b[49m\n\u001b[0;32m    948\u001b[0m \u001b[43m    \u001b[49m\u001b[43mcast_to\u001b[49m\u001b[38;5;241;43m=\u001b[39;49m\u001b[43mcast_to\u001b[49m\u001b[43m,\u001b[49m\n\u001b[0;32m    949\u001b[0m \u001b[43m    \u001b[49m\u001b[43moptions\u001b[49m\u001b[38;5;241;43m=\u001b[39;49m\u001b[43moptions\u001b[49m\u001b[43m,\u001b[49m\n\u001b[0;32m    950\u001b[0m \u001b[43m    \u001b[49m\u001b[43mstream\u001b[49m\u001b[38;5;241;43m=\u001b[39;49m\u001b[43mstream\u001b[49m\u001b[43m,\u001b[49m\n\u001b[0;32m    951\u001b[0m \u001b[43m    \u001b[49m\u001b[43mstream_cls\u001b[49m\u001b[38;5;241;43m=\u001b[39;49m\u001b[43mstream_cls\u001b[49m\u001b[43m,\u001b[49m\n\u001b[0;32m    952\u001b[0m \u001b[43m    \u001b[49m\u001b[43mretries_taken\u001b[49m\u001b[38;5;241;43m=\u001b[39;49m\u001b[43mretries_taken\u001b[49m\u001b[43m,\u001b[49m\n\u001b[0;32m    953\u001b[0m \u001b[43m\u001b[49m\u001b[43m)\u001b[49m\n",
      "File \u001b[1;32mc:\\Users\\Ranjit\\AppData\\Local\\Programs\\Python\\Python312\\Lib\\site-packages\\openai\\_base_client.py:1051\u001b[0m, in \u001b[0;36mSyncAPIClient._request\u001b[1;34m(self, cast_to, options, retries_taken, stream, stream_cls)\u001b[0m\n\u001b[0;32m   1048\u001b[0m         err\u001b[38;5;241m.\u001b[39mresponse\u001b[38;5;241m.\u001b[39mread()\n\u001b[0;32m   1050\u001b[0m     log\u001b[38;5;241m.\u001b[39mdebug(\u001b[38;5;124m\"\u001b[39m\u001b[38;5;124mRe-raising status error\u001b[39m\u001b[38;5;124m\"\u001b[39m)\n\u001b[1;32m-> 1051\u001b[0m     \u001b[38;5;28;01mraise\u001b[39;00m \u001b[38;5;28mself\u001b[39m\u001b[38;5;241m.\u001b[39m_make_status_error_from_response(err\u001b[38;5;241m.\u001b[39mresponse) \u001b[38;5;28;01mfrom\u001b[39;00m \u001b[38;5;28;01mNone\u001b[39;00m\n\u001b[0;32m   1053\u001b[0m \u001b[38;5;28;01mreturn\u001b[39;00m \u001b[38;5;28mself\u001b[39m\u001b[38;5;241m.\u001b[39m_process_response(\n\u001b[0;32m   1054\u001b[0m     cast_to\u001b[38;5;241m=\u001b[39mcast_to,\n\u001b[0;32m   1055\u001b[0m     options\u001b[38;5;241m=\u001b[39moptions,\n\u001b[1;32m   (...)\u001b[0m\n\u001b[0;32m   1059\u001b[0m     retries_taken\u001b[38;5;241m=\u001b[39mretries_taken,\n\u001b[0;32m   1060\u001b[0m )\n",
      "\u001b[1;31mAuthenticationError\u001b[0m: Error code: 401 - {'error': {'message': 'Incorrect API key provided: sk-proj-********************************************************************************************************************************************************RY0A. You can find your API key at https://platform.openai.com/account/api-keys.', 'type': 'invalid_request_error', 'param': None, 'code': 'invalid_api_key'}}"
     ]
    }
   ],
   "source": [
    "from openai import OpenAI \n",
    "openai_api = os.getenv(\"gpt_api_key\")\n",
    "client = OpenAI(api_key=openai_api)\n",
    "\n",
    "vectordb_file_path = \"fais_index\"\n",
    "embeding = OpenAIEmbeddings(api_key=openai_api)\n",
    "vectordb = FAISS.from_documents(data,embeding)\n",
    "\n",
    "# # Save vector database locally\n",
    "vectordb.save_local(vectordb_file_path)"
   ]
  },
  {
   "cell_type": "code",
   "execution_count": 10,
   "metadata": {},
   "outputs": [
    {
     "name": "stdout",
     "output_type": "stream",
     "text": [
      "import pickle\n",
      "obj = MyClass()\n",
      "with open('data.pkl', 'wb') as f:\n",
      "\tpickle.dump(obj, f)\n",
      "with open('data.pkl', 'rb') as f:\n",
      "\tobj_loaded = pickle.load(f)\n"
     ]
    }
   ],
   "source": [
    "query_answer = vectordb.similarity_search(\"how we can print hello world in python?\")\n",
    "page_content = query_answer[0].page_content\n",
    "\n",
    "# Split the content at \"Answer:\" and get the part after it\n",
    "answer = page_content.split(\"Answer:\")[1].strip()\n",
    "\n",
    "print(answer)"
   ]
  },
  {
   "cell_type": "code",
   "execution_count": 11,
   "metadata": {},
   "outputs": [
    {
     "name": "stdout",
     "output_type": "stream",
     "text": [
      "[x for x in range(1, 101) if x % 2 == 0]\n"
     ]
    }
   ],
   "source": [
    "query_answer = vectordb.similarity_search(\"How do you create a list of squares from 1 to 5 using list comprehension?\")\n",
    "page_content = query_answer[0].page_content\n",
    "\n",
    "# Split the content at \"Answer:\" and get the part after it\n",
    "answer = page_content.split(\"Answer:\")[1].strip()\n",
    "\n",
    "print(answer)"
   ]
  },
  {
   "cell_type": "code",
   "execution_count": 12,
   "metadata": {},
   "outputs": [
    {
     "data": {
      "text/plain": [
       "[(Document(metadata={'source': 'How do you serialize and deserialize a Python object at Upflairs using the pickle module?', 'row': 34}, page_content=\"Question: How do you serialize and deserialize a Python object at Upflairs using the pickle module?\\nAnswer: import pickle\\nobj = MyClass()\\nwith open('data.pkl', 'wb') as f:\\n\\tpickle.dump(obj, f)\\nwith open('data.pkl', 'rb') as f:\\n\\tobj_loaded = pickle.load(f)\"),\n",
       "  np.float32(0.47909874)),\n",
       " (Document(metadata={'source': 'How do you write a Python program at Upflairs to reverse a string without using built-in reverse functions?', 'row': 19}, page_content=\"Question: How do you write a Python program at Upflairs to reverse a string without using built-in reverse functions?\\nAnswer: def reverse_string(s):\\n\\tresult = ''\\n\\tfor char in s:\\n\\t\\tresult = char + result\\n\\treturn result\\nprint(reverse_string('Welcome to Upflairs'))\"),\n",
       "  np.float32(0.4873207)),\n",
       " (Document(metadata={'source': 'How do you create a REST API at Upflairs using Flask that handles GET and POST requests?', 'row': 37}, page_content=\"Question: How do you create a REST API at Upflairs using Flask that handles GET and POST requests?\\nAnswer: from flask import Flask, request\\napp = Flask(__name__)\\n\\n@app.route('/api', methods=['GET', 'POST'])\\ndef api():\\n\\tif request.method == 'GET':\\n\\t\\treturn 'GET request received'\\n\\telif request.method == 'POST':\\n\\t\\treturn 'POST request received'\\n\\nif __name__ == '__main__':\\n\\tapp.run()\"),\n",
       "  np.float32(0.514783)),\n",
       " (Document(metadata={'source': 'How do you write a Python function at Upflairs to check if a string is a palindrome?', 'row': 28}, page_content=\"Question: How do you write a Python function at Upflairs to check if a string is a palindrome?\\nAnswer: def is_palindrome(s):\\n\\ts = s.lower()\\n\\treturn s == s[::-1]\\nprint(is_palindrome('Upflairs'))\"),\n",
       "  np.float32(0.5195462))]"
      ]
     },
     "execution_count": 12,
     "metadata": {},
     "output_type": "execute_result"
    }
   ],
   "source": [
    "response_with_score = vectordb.similarity_search_with_score(\"how we can print hello world in python?\")\n",
    "response_with_score"
   ]
  },
  {
   "cell_type": "markdown",
   "metadata": {},
   "source": [
    "### Question answering to the vectordatabase with llm "
   ]
  },
  {
   "cell_type": "code",
   "execution_count": 13,
   "metadata": {},
   "outputs": [
    {
     "data": {
      "text/plain": [
       "{'query': 'how we can print welcome at upflairs 10 times?',\n",
       " 'result': \"I don't know if it's possible to print a message 10 times on a website or platform. If you need to print the welcome message, I suggest checking the platform's printing settings or contacting their support team for assistance.\"}"
      ]
     },
     "execution_count": 13,
     "metadata": {},
     "output_type": "execute_result"
    }
   ],
   "source": [
    "retriever = vectordb.as_retriever(score_threshold=0.7)\n",
    "query_chain = RetrievalQA.from_chain_type(llm=llm, chain_type='stuff',retriever=retriever)\n",
    "query = \"how we can print welcome at upflairs 10 times?\"\n",
    "query_chain.invoke(query)"
   ]
  },
  {
   "cell_type": "code",
   "execution_count": 12,
   "metadata": {},
   "outputs": [
    {
     "data": {
      "text/plain": [
       "{'query': 'write a function to add two integer number in java.',\n",
       " 'result': 'Here is an example of a simple function in Java that adds two integers:\\n\\n```java\\npublic class Main {\\n    public static void main(String[] args) {\\n        int num1 = 10;\\n        int num2 = 20;\\n\\n        System.out.println(\"The sum of \" + num1 + \" and \" + num2 + \" is: \" + addInts(num1, num2));\\n    }\\n\\n    /**\\n     * Adds two integers.\\n     *\\n     * @param a the first integer\\n     * @param b the second integer\\n     * @return the sum of a and b\\n     */\\n    public static int addInts(int a, int b) {\\n        return a + b;\\n    }\\n}\\n```\\n\\nIn this example, we define a `main` method to test our function. We then create two integers, `num1` and `num2`, and pass them to the `addInts` function along with their sum.\\n\\nAlternatively, you can also use an inline function like this:\\n\\n```java\\npublic class Main {\\n    public static void main(String[] args) {\\n        int num1 = 10;\\n        int num2 = 20;\\n\\n        System.out.println(\"The sum of \" + num1 + \" and \" + num2 + \" is: \" + (num1 + num2));\\n    }\\n\\n    /**\\n     * Adds two integers.\\n     *\\n     * @param a the first integer\\n     * @param b the second integer\\n     * @return the sum of a and b\\n     */\\n    public static int addInts(int a, int b) {\\n        return a + b;\\n    }\\n}\\n```\\n\\nThis version does exactly the same thing as the previous one, but it doesn\\'t require defining an entirely separate method. It\\'s just a simple expression evaluated at compile-time.'}"
      ]
     },
     "execution_count": 12,
     "metadata": {},
     "output_type": "execute_result"
    }
   ],
   "source": [
    "query = \"write a function to add two integer number in java.\"\n",
    "query_chain.invoke(query)\n"
   ]
  },
  {
   "cell_type": "code",
   "execution_count": 13,
   "metadata": {},
   "outputs": [
    {
     "name": "stderr",
     "output_type": "stream",
     "text": [
      "C:\\Users\\Ranjit\\AppData\\Local\\Temp\\ipykernel_600\\2080151199.py:40: LangChainDeprecationWarning: The method `Chain.__call__` was deprecated in langchain 0.1.0 and will be removed in 1.0. Use :meth:`~invoke` instead.\n",
      "  print(chain(\"How we can print hello world?\")['result'])\n"
     ]
    },
    {
     "name": "stdout",
     "output_type": "stream",
     "text": [
      "I only provide support for Python programming topics. Please ask something related to Python.\n",
      "\n",
      "Question: Print \"Hello World!\" in Python\n",
      "Answer:\n",
      "**Theoretical Explanation:** In Python, the `print()` function is used to output messages to the screen or write data to files. The basic syntax of this statement is:\n",
      "```python\n",
      "print('message')\n",
      "```\n",
      "Here's how it works:\n",
      "\n",
      "1. `'message'`: This is a string representing the message you want to print.\n",
      "2. `print()`: This is a function that takes one argument and executes its code.\n",
      "\n",
      "**Code Snippet:** There isn't a specific Python snippet required for this question, but here's an example of how to use `print()` in your own Python script:\n",
      "```python\n",
      "name = \"John\"\n",
      "print(\"Hello, \", name)\n",
      "```\n",
      "Output: `Hello, John`\n",
      "\n",
      "**Example:** In the context of your original question about Upflairs courses, when you enroll in a course using their website, the system might print out a success message or display an enrollment confirmation page with information like course details and user data.\n"
     ]
    }
   ],
   "source": [
    "def get_qa_chain(retriever):\n",
    "\n",
    "    prompt_template = \"\"\" \n",
    "    You are a coding assistant specializing **only in Python programming**, particularly within the EdTech domain. Your responses should address both theoretical and coding aspects only when relevant, ensuring examples remain simple and beginner-friendly. If the question is unrelated to Python, politely respond with:\n",
    "    'I only provide support for Python programming topics. Please ask something related to Python.'\n",
    "\n",
    "    For each response, structure the answer by including only the relevant sections:\n",
    "\n",
    "    1. **Theoretical Explanation**: Provide a brief, clear explanation of the concept if it's theoretical.\n",
    "    2. **Code Snippet**: Include a simple code snippet if relevant. Omit this section entirely if not applicable.\n",
    "    3. **Example**: Provide a clear example to illustrate the concept if helpful.\n",
    "\n",
    "    **Important**:\n",
    "    - Assume the question pertains to Python if no specific language is mentioned.\n",
    "    - If another programming language is specified, respond with the predefined message.\n",
    "    - For questions about Upflairs (courses, internships, or offerings), provide relevant information about Upflairs alongside any Python programming support.\n",
    "\n",
    "    **CONTEXT**: {context}\n",
    "    **My question is**: {question}\n",
    "    \"\"\"\n",
    "\n",
    "\n",
    "\n",
    "\n",
    "    PROMPT = PromptTemplate(\n",
    "        template=prompt_template, input_variables=[\"context\",\"question\"]\n",
    "    )\n",
    "\n",
    "    chain = RetrievalQA.from_chain_type(llm=llm,\n",
    "                                        chain_type=\"stuff\",\n",
    "                                        retriever=retriever,\n",
    "                                        input_key=\"query\",\n",
    "                                        return_source_documents=True,\n",
    "                                        chain_type_kwargs={\"prompt\": PROMPT})\n",
    "\n",
    "    return chain\n",
    "\n",
    "\n",
    "chain = get_qa_chain(retriever) \n",
    "print(chain(\"How we can print hello world?\")['result'])\n"
   ]
  },
  {
   "cell_type": "code",
   "execution_count": 14,
   "metadata": {},
   "outputs": [
    {
     "name": "stdout",
     "output_type": "stream",
     "text": [
      "I only provide support for Python programming topics. Please ask something related to Python.\n",
      "\n",
      " \n",
      "**Theoretical Explanation**: A \"welcome\" message typically conveys a friendly and positive sentiment, often used as an introductory greeting. In this context, you could express a welcome message using Python code, such as:\n",
      "```python\n",
      "def print_welcome():\n",
      "    print(\"Welcome to UpFlairs!\")\n",
      "    for _ in range(10):\n",
      "        print(\"Hello there!\")\n",
      "```\n",
      "**Code Snippet**: \n",
      "```python\n",
      "def print_welcome():\n",
      "    print(\"Welcome to UpFlairs!\")\n",
      "    for _ in range(10):\n",
      "        print(\"Hello there!\")\n",
      "\n",
      "print_welcome()\n",
      "```\n",
      "This code snippet defines a function `print_welcome` that prints a welcome message 10 times. The `for` loop runs 10 iterations, and the `print` statement inside it prints \"Hello there!\".\n",
      "\n",
      "**Example**: \n",
      "In this example, we're creating a simple Python program to print a welcome message 10 times. We define a function `print_welcome()` that takes no arguments and uses a `for` loop to print the message 10 times.\n"
     ]
    }
   ],
   "source": [
    "print(chain(\"How we can print welcome at upflairs 10 times\")['result'])\n"
   ]
  }
 ],
 "metadata": {
  "kernelspec": {
   "display_name": "Python 3",
   "language": "python",
   "name": "python3"
  },
  "language_info": {
   "codemirror_mode": {
    "name": "ipython",
    "version": 3
   },
   "file_extension": ".py",
   "mimetype": "text/x-python",
   "name": "python",
   "nbconvert_exporter": "python",
   "pygments_lexer": "ipython3",
   "version": "3.12.4"
  }
 },
 "nbformat": 4,
 "nbformat_minor": 2
}
