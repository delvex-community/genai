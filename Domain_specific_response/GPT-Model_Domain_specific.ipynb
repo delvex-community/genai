{
 "cells": [
  {
   "cell_type": "markdown",
   "metadata": {},
   "source": [
    "### First way to pass the prompt into OpenAi LLM"
   ]
  },
  {
   "cell_type": "code",
   "execution_count": 8,
   "metadata": {},
   "outputs": [
    {
     "name": "stdout",
     "output_type": "stream",
     "text": [
      "Generated Code:\n",
      " A conditional statement is a programming construct that allows the execution of certain code based on whether a specified condition evaluates to true or false. In simpler terms, it allows a program to make decisions based on certain conditions.\n",
      "\n",
      "In Python, conditional statements are typically implemented using the if, elif, and else keywords. Here is an example of a conditional statement in Python:\n",
      "\n",
      "```python\n",
      "x = 10\n",
      "\n",
      "if x > 5:\n",
      "    print(\"x is greater than 5\")\n",
      "elif x == 5:\n",
      "    print(\"x is equal to 5\")\n",
      "else:\n",
      "    print(\"x is less than 5\")\n",
      "```\n",
      "\n",
      "In this example, the program checks the value of the variable `x` and prints a message based on the condition that is true. If `x` is greater than 5, it will print \"x is greater than 5\". If `x` is equal to 5, it will print \"x is equal to 5\". Otherwise, it will print \"x is less than 5\".\n"
     ]
    }
   ],
   "source": [
    "from openai import  OpenAI\n",
    "import os \n",
    "from dotenv import  load_dotenv \n",
    "load_dotenv()\n",
    "\n",
    "# Initialize OpenAI API key\n",
    "api_key = os.getenv(\"gpt_api_key\")\n",
    "client = OpenAI(api_key=api_key)\n",
    "# Define the prompt in chat format\n",
    "messages = [\n",
    "    {\"role\": \"system\", \"content\": \"You are a helpful assistant specialized in Python code generation, and all the example code that you will generate, must related to edtech domain, which are simple to  understand\"},\n",
    "    {\"role\": \"user\", \"content\": \"Write a Python function to check if a number is prime.\"}\n",
    "]\n",
    "\n",
    "\n",
    "messages2 = [\n",
    "    {\"role\": \"system\", \"content\": \"You are a helpful assistant specialized in Python code generation.\"},\n",
    "    {\"role\": \"user\", \"content\": \"Write a Python function to check if a number is prime.\"}\n",
    "]\n",
    "\n",
    "messages3 = [\n",
    "    {\"role\": \"system\", \"content\": \"You are a helpful assistant specialized in Python code generation. take the edtech related example with theortical wise and coding wise also.\"},\n",
    "    {\"role\": \"user\", \"content\": \"what is conditional statement?\"}\n",
    "]\n",
    "\n",
    "# Call the OpenAI API to get a chat-based completion\n",
    "response = client.chat.completions.create(\n",
    "    model=\"gpt-3.5-turbo\",  # Choose a suitable chat-based GPT model\n",
    "    messages=messages3,\n",
    "    max_tokens=250,\n",
    "    temperature=0.5\n",
    "\n",
    ")\n",
    "\n",
    "\n",
    "# Extract the generated response\n",
    "generated_code = response.choices[0].message.content\n",
    "print(\"Generated Code:\\n\", generated_code)\n"
   ]
  },
  {
   "cell_type": "markdown",
   "metadata": {},
   "source": [
    "### second way to pass the prompt into OpenAi "
   ]
  },
  {
   "cell_type": "code",
   "execution_count": 11,
   "metadata": {},
   "outputs": [
    {
     "name": "stdout",
     "output_type": "stream",
     "text": [
      "Generated Code:\n",
      " Theory: In programming, a conditional statement is used to perform different actions based on whether a certain condition is true or false. It allows the program to make decisions and execute different code blocks accordingly.\n",
      "\n",
      "Coding: In most programming languages, conditional statements are implemented using keywords such as \"if\", \"else if\", and \"else\". The syntax typically looks like this:\n",
      "\n",
      "```\n",
      "if (condition) {\n",
      "  // code to be executed if the condition is true\n",
      "} else {\n",
      "  // code to be executed if the condition is false\n",
      "}\n",
      "```\n",
      "\n",
      "Example: Let's say we want to create a simple program that checks if a student's grade is passing or failing. We can use a conditional statement to determine the outcome:\n",
      "\n",
      "```python\n",
      "grade = 75\n",
      "\n",
      "if grade >= 60:\n",
      "    print(\"Student has passed.\")\n",
      "else:\n",
      "    print(\"Student has failed.\")\n",
      "```\n",
      "\n",
      "In this example, the program checks if the student's grade is greater than or equal to 60. If the condition is true, it prints \"Student has passed\", otherwise it prints \"Student has failed\".\n"
     ]
    }
   ],
   "source": [
    "from openai import  OpenAI\n",
    "import os \n",
    "from dotenv import  load_dotenv \n",
    "load_dotenv()\n",
    "\n",
    "# Initialize OpenAI API key\n",
    "api_key = os.getenv(\"gpt_api_key\")\n",
    "client = OpenAI(api_key=api_key)\n",
    "# Define the prompt in chat format\n",
    "\n",
    "prompt = \"\"\"Give the response only related to the edtech domain, with theoritical and coding wise also,\n",
    " and example must be  simple to understand, and generate  theory , coding, example for my question is : \"\"\"\n",
    "messages3 = [\n",
    "    {\"role\": \"user\", \"content\": f\"{prompt} what is conditional statement?\"}\n",
    "]\n",
    "\n",
    "# Call the OpenAI API to get a chat-based completion\n",
    "response = client.chat.completions.create(\n",
    "    model=\"gpt-3.5-turbo\",  # Choose a suitable chat-based GPT model\n",
    "    messages=messages3,\n",
    "    max_tokens=250,\n",
    "    temperature=0.5\n",
    "\n",
    ")\n",
    "\n",
    "\n",
    "# Extract the generated response\n",
    "generated_code = response.choices[0].message.content\n",
    "print(\"Generated Code:\\n\", generated_code)\n"
   ]
  },
  {
   "cell_type": "markdown",
   "metadata": {},
   "source": [
    "### Third way passing the prompt message into OpenAi"
   ]
  },
  {
   "cell_type": "code",
   "execution_count": 17,
   "metadata": {},
   "outputs": [
    {
     "name": "stdout",
     "output_type": "stream",
     "text": [
      "Generated Code:\n",
      " In programming, an if-else statement is a conditional statement that allows you to execute different blocks of code based on whether a specified condition is true or false. This helps control the flow of the program and make decisions based on certain conditions.\n",
      "\n",
      "Here is a simple example in Python:\n",
      "\n",
      "```python\n",
      "# Check if a number is greater than 5\n",
      "num = 7\n",
      "\n",
      "if num > 5:\n",
      "    print(\"Number is greater than 5\")\n",
      "else:\n",
      "    print(\"Number is not greater than 5\")\n",
      "```\n",
      "\n",
      "In this example, the program checks if the variable `num` is greater than 5. If the condition `num > 5` is true, it will execute the block of code under the `if` statement, which prints \"Number is greater than 5\". Otherwise, it will execute the block of code under the `else` statement, which prints \"Number is not greater than 5\".\n"
     ]
    }
   ],
   "source": [
    "from openai import  OpenAI\n",
    "import os \n",
    "from dotenv import  load_dotenv \n",
    "load_dotenv()\n",
    "\n",
    "# Initialize OpenAI API key\n",
    "api_key = os.getenv(\"gpt_api_key\")\n",
    "client = OpenAI(api_key=api_key)\n",
    "\n",
    "# Create a detailed system prompt to define the role and context\n",
    "prompt = \"\"\"Give the response only related to the EdTech domain, covering both theoretical and coding aspects.\n",
    "The example must be simple to understand for beginners, and the response should include:\n",
    "1. A brief theoretical explanation.\n",
    "2. A small code snippet.\n",
    "3. A clear and simple example.\n",
    "\n",
    "My question is: \"\"\"\n",
    "\n",
    "question = input(\"plz ask your question : \")\n",
    "# Construct messages with the desired structure\n",
    "messages = [\n",
    "    {\"role\": \"system\", \"content\": \"You are a coding assistant specialized in generating educational content for beginner-level students in the EdTech domain.\"},\n",
    "    {\"role\": \"user\", \"content\": f\"{prompt} {question}\"}\n",
    "]\n",
    "\n",
    "# Call the OpenAI API to get a chat-based completion\n",
    "response = client.chat.completions.create(\n",
    "    model=\"gpt-3.5-turbo\",  # Choose a suitable chat-based GPT model\n",
    "    messages=messages,\n",
    "    max_tokens=250,\n",
    "    temperature=0.5\n",
    "\n",
    ")\n",
    "\n",
    "\n",
    "# Extract the generated response\n",
    "generated_code = response.choices[0].message.content\n",
    "print(\"Generated Code:\\n\", generated_code)\n",
    "\n"
   ]
  },
  {
   "cell_type": "markdown",
   "metadata": {},
   "source": [
    "### passing the prompt message into openai with  restriction that only generate python related answer"
   ]
  },
  {
   "cell_type": "code",
   "execution_count": 18,
   "metadata": {},
   "outputs": [
    {
     "name": "stdout",
     "output_type": "stream",
     "text": [
      "Generated Response:\n",
      " I only provide support for Python programming topics. Please ask something related to Python.\n"
     ]
    }
   ],
   "source": [
    "from openai import  OpenAI\n",
    "client = OpenAI(api_key=os.getenv(\"gpt_api_key\"))\n",
    "\n",
    "# Define the system and user messages\n",
    "system_prompt = \"\"\"\n",
    "You are a coding assistant specialized in generating responses related **only to Python programming**.\n",
    "If the question is not related to Python theory, syntax, or programming, politely refuse to answer by saying:\n",
    "'I only provide support for Python programming topics. Please ask something related to Python.'\n",
    "\"\"\"\n",
    "\n",
    "user_prompt = \"\"\"Give the response only related to the EdTech domain, with theoretical and coding examples. \n",
    "Focus exclusively on Python. Generate theory, code, and simple examples for: \"\"\"\n",
    "\n",
    "question = input(\"Ask your question : \")\n",
    "\n",
    "# Create the structured messages\n",
    "messages = [\n",
    "    {\"role\": \"system\", \"content\": system_prompt},\n",
    "    {\"role\": \"user\", \"content\": f\"{user_prompt} {question}\"}\n",
    "]\n",
    "\n",
    "# Call the OpenAI ChatCompletion API\n",
    "response = client.chat.completions.create(\n",
    "    model=\"gpt-3.5-turbo\",  # Choose a chat-based model\n",
    "    messages=messages,\n",
    "    max_tokens=300,\n",
    "    temperature=0.2\n",
    ")\n",
    "\n",
    "# Extract and print the generated content\n",
    "generated_response = response.choices[0].message.content\n",
    "print(\"Generated Response:\\n\", generated_response)\n"
   ]
  }
 ],
 "metadata": {
  "kernelspec": {
   "display_name": "Python 3",
   "language": "python",
   "name": "python3"
  },
  "language_info": {
   "codemirror_mode": {
    "name": "ipython",
    "version": 3
   },
   "file_extension": ".py",
   "mimetype": "text/x-python",
   "name": "python",
   "nbconvert_exporter": "python",
   "pygments_lexer": "ipython3",
   "version": "3.12.4"
  }
 },
 "nbformat": 4,
 "nbformat_minor": 2
}
