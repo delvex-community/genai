{
 "cells": [
  {
   "cell_type": "markdown",
   "metadata": {},
   "source": [
    "### First way to pass the prompt into OpenAi LLM"
   ]
  },
  {
   "cell_type": "code",
   "execution_count": 8,
   "metadata": {},
   "outputs": [
    {
     "name": "stdout",
     "output_type": "stream",
     "text": [
      "Generated Code:\n",
      " A conditional statement is a programming construct that allows the execution of certain code based on whether a specified condition evaluates to true or false. In simpler terms, it allows a program to make decisions based on certain conditions.\n",
      "\n",
      "In Python, conditional statements are typically implemented using the if, elif, and else keywords. Here is an example of a conditional statement in Python:\n",
      "\n",
      "```python\n",
      "x = 10\n",
      "\n",
      "if x > 5:\n",
      "    print(\"x is greater than 5\")\n",
      "elif x == 5:\n",
      "    print(\"x is equal to 5\")\n",
      "else:\n",
      "    print(\"x is less than 5\")\n",
      "```\n",
      "\n",
      "In this example, the program checks the value of the variable `x` and prints a message based on the condition that is true. If `x` is greater than 5, it will print \"x is greater than 5\". If `x` is equal to 5, it will print \"x is equal to 5\". Otherwise, it will print \"x is less than 5\".\n"
     ]
    }
   ],
   "source": [
    "from openai import  OpenAI\n",
    "import os \n",
    "from dotenv import  load_dotenv \n",
    "load_dotenv()\n",
    "\n",
    "# Initialize OpenAI API key\n",
    "api_key = os.getenv(\"gpt_api_key\")\n",
    "client = OpenAI(api_key=api_key)\n",
    "# Define the prompt in chat format\n",
    "messages = [\n",
    "    {\"role\": \"system\", \"content\": \"You are a helpful assistant specialized in Python code generation, and all the example code that you will generate, must related to edtech domain, which are simple to  understand\"},\n",
    "    {\"role\": \"user\", \"content\": \"Write a Python function to check if a number is prime.\"}\n",
    "]\n",
    "\n",
    "\n",
    "messages2 = [\n",
    "    {\"role\": \"system\", \"content\": \"You are a helpful assistant specialized in Python code generation.\"},\n",
    "    {\"role\": \"user\", \"content\": \"Write a Python function to check if a number is prime.\"}\n",
    "]\n",
    "\n",
    "messages3 = [\n",
    "    {\"role\": \"system\", \"content\": \"You are a helpful assistant specialized in Python code generation. take the edtech related example with theortical wise and coding wise also.\"},\n",
    "    {\"role\": \"user\", \"content\": \"what is conditional statement?\"}\n",
    "]\n",
    "\n",
    "# Call the OpenAI API to get a chat-based completion\n",
    "response = client.chat.completions.create(\n",
    "    model=\"gpt-3.5-turbo\",  # Choose a suitable chat-based GPT model\n",
    "    messages=messages3,\n",
    "    max_tokens=250,\n",
    "    temperature=0.5\n",
    "\n",
    ")\n",
    "\n",
    "\n",
    "# Extract the generated response\n",
    "generated_code = response.choices[0].message.content\n",
    "print(\"Generated Code:\\n\", generated_code)\n"
   ]
  },
  {
   "cell_type": "code",
   "execution_count": null,
   "metadata": {},
   "outputs": [],
   "source": []
  },
  {
   "cell_type": "code",
   "execution_count": null,
   "metadata": {},
   "outputs": [],
   "source": []
  },
  {
   "cell_type": "code",
   "execution_count": null,
   "metadata": {},
   "outputs": [],
   "source": []
  },
  {
   "cell_type": "code",
   "execution_count": null,
   "metadata": {},
   "outputs": [],
   "source": []
  },
  {
   "cell_type": "code",
   "execution_count": null,
   "metadata": {},
   "outputs": [],
   "source": []
  },
  {
   "cell_type": "code",
   "execution_count": null,
   "metadata": {},
   "outputs": [],
   "source": []
  },
  {
   "cell_type": "code",
   "execution_count": null,
   "metadata": {},
   "outputs": [],
   "source": []
  },
  {
   "cell_type": "code",
   "execution_count": null,
   "metadata": {},
   "outputs": [],
   "source": []
  },
  {
   "cell_type": "code",
   "execution_count": null,
   "metadata": {},
   "outputs": [],
   "source": []
  },
  {
   "cell_type": "code",
   "execution_count": null,
   "metadata": {},
   "outputs": [],
   "source": []
  },
  {
   "cell_type": "code",
   "execution_count": null,
   "metadata": {},
   "outputs": [],
   "source": []
  }
 ],
 "metadata": {
  "kernelspec": {
   "display_name": "Python 3",
   "language": "python",
   "name": "python3"
  },
  "language_info": {
   "codemirror_mode": {
    "name": "ipython",
    "version": 3
   },
   "file_extension": ".py",
   "mimetype": "text/x-python",
   "name": "python",
   "nbconvert_exporter": "python",
   "pygments_lexer": "ipython3",
   "version": "3.12.4"
  }
 },
 "nbformat": 4,
 "nbformat_minor": 2
}
