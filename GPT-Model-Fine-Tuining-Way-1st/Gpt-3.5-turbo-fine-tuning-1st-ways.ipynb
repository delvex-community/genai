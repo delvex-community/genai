{
 "cells": [
  {
   "cell_type": "markdown",
   "metadata": {},
   "source": [
    ">>> ### Gpt-3.5-turbo model fine tuning 1st way "
   ]
  },
  {
   "cell_type": "code",
   "execution_count": 69,
   "metadata": {},
   "outputs": [],
   "source": [
    "import json,os\n",
    "import random \n",
    "from openai import OpenAI "
   ]
  },
  {
   "cell_type": "code",
   "execution_count": 70,
   "metadata": {},
   "outputs": [],
   "source": [
    "# configure gpt client \n",
    "gpt_api_key = \"past your api key\"\n",
    "client = OpenAI(api_key=gpt_api_key)"
   ]
  },
  {
   "cell_type": "code",
   "execution_count": 3,
   "metadata": {},
   "outputs": [
    {
     "name": "stdout",
     "output_type": "stream",
     "text": [
      "[{'messages': [{'role': 'system', 'content': 'You are a knowledgeable training assistant.'}, {'role': 'user', 'content': 'What are the key skills needed for a career in Data Science?'}, {'role': 'assistant', 'content': 'Key skills for a career in Data Science include programming (Python, R), statistics, data visualization, machine learning, and knowledge of databases (SQL, NoSQL).'}]}, {'messages': [{'role': 'system', 'content': 'You are an informative training assistant.'}, {'role': 'user', 'content': 'Can you explain what Full Stack Development involves?'}, {'role': 'assistant', 'content': 'Full Stack Development involves working on both the front-end and back-end of web applications. This includes using HTML, CSS, and JavaScript for the front-end, and languages like Node.js, Python, or Ruby for the back-end.'}]}, {'messages': [{'role': 'system', 'content': 'You are a helpful assistant.'}, {'role': 'user', 'content': 'What are some popular tools used in DevOps?'}, {'role': 'assistant', 'content': 'Popular DevOps tools include Docker for containerization, Jenkins for continuous integration, Kubernetes for orchestration, and Git for version control.'}]}, {'messages': [{'role': 'system', 'content': 'You are a friendly assistant.'}, {'role': 'user', 'content': 'How can I get started with machine learning?'}, {'role': 'assistant', 'content': 'To get started with machine learning, you should learn Python and libraries like TensorFlow and scikit-learn. Additionally, understanding the basics of statistics and linear algebra will be helpful.'}]}, {'messages': [{'role': 'system', 'content': 'You are a concise training assistant.'}, {'role': 'user', 'content': 'What is Continuous Integration in DevOps?'}, {'role': 'assistant', 'content': 'Continuous Integration (CI) is a DevOps practice where developers frequently integrate their code changes into a shared repository, allowing for automated testing and quicker feedback.'}]}, {'messages': [{'role': 'system', 'content': 'You are a knowledgeable training assistant.'}, {'role': 'user', 'content': 'What is data wrangling and why is it important?'}, {'role': 'assistant', 'content': \"Data wrangling is the process of cleaning and organizing raw data into a usable format. It's important because it helps ensure data quality and accuracy, which are crucial for effective data analysis.\"}]}, {'messages': [{'role': 'system', 'content': 'You are an informative training assistant.'}, {'role': 'user', 'content': 'Can you explain what RESTful APIs are?'}, {'role': 'assistant', 'content': 'RESTful APIs are application programming interfaces that adhere to the principles of Representational State Transfer (REST). They allow different software systems to communicate over HTTP using standard methods like GET, POST, PUT, and DELETE.'}]}, {'messages': [{'role': 'system', 'content': 'You are a helpful assistant.'}, {'role': 'user', 'content': 'What are some common machine learning algorithms?'}, {'role': 'assistant', 'content': 'Common machine learning algorithms include linear regression, decision trees, random forests, support vector machines (SVM), and neural networks.'}]}, {'messages': [{'role': 'system', 'content': 'You are a friendly assistant.'}, {'role': 'user', 'content': 'How does version control work?'}, {'role': 'assistant', 'content': 'Version control tracks changes to files over time, allowing multiple developers to collaborate. It enables you to revert to previous versions, branch for new features, and merge changes seamlessly.'}]}, {'messages': [{'role': 'system', 'content': 'You are a concise training assistant.'}, {'role': 'user', 'content': 'What is the purpose of containerization in DevOps?'}, {'role': 'assistant', 'content': 'Containerization packages applications and their dependencies into isolated containers, ensuring consistent environments across development, testing, and production, and improving scalability and deployment speed.'}]}, {'messages': [{'role': 'system', 'content': 'You are a knowledgeable training assistant.'}, {'role': 'user', 'content': 'What is exploratory data analysis (EDA)?'}, {'role': 'assistant', 'content': 'Exploratory Data Analysis (EDA) is the process of analyzing data sets to summarize their main characteristics, often using visual methods. It helps in identifying patterns, trends, and anomalies in the data.'}]}, {'messages': [{'role': 'system', 'content': 'You are an informative training assistant.'}, {'role': 'user', 'content': 'What is the difference between SQL and NoSQL databases?'}, {'role': 'assistant', 'content': 'SQL databases are relational and use structured query language for defining and manipulating data. NoSQL databases are non-relational and can store unstructured data, allowing for greater flexibility in data models.'}]}, {'messages': [{'role': 'system', 'content': 'You are a helpful assistant.'}, {'role': 'user', 'content': 'What is feature engineering in machine learning?'}, {'role': 'assistant', 'content': 'Feature engineering is the process of using domain knowledge to select, modify, or create features from raw data, improving the performance of machine learning models.'}]}, {'messages': [{'role': 'system', 'content': 'You are a friendly assistant.'}, {'role': 'user', 'content': 'What is Agile methodology in software development?'}, {'role': 'assistant', 'content': 'Agile methodology is an iterative approach to software development that emphasizes flexibility, collaboration, and customer feedback, allowing teams to adapt to changes quickly.'}]}, {'messages': [{'role': 'system', 'content': 'You are a concise training assistant.'}, {'role': 'user', 'content': 'What is the role of a DevOps engineer?'}, {'role': 'assistant', 'content': 'A DevOps engineer facilitates collaboration between development and operations teams, focusing on automation, continuous integration, and continuous delivery to improve software deployment and infrastructure management.'}]}, {'messages': [{'role': 'system', 'content': 'You are a knowledgeable training assistant.'}, {'role': 'user', 'content': 'Can you explain the concept of overfitting in machine learning?'}, {'role': 'assistant', 'content': 'Overfitting occurs when a machine learning model learns the training data too well, capturing noise and outliers rather than the underlying pattern, resulting in poor performance on new, unseen data.'}]}, {'messages': [{'role': 'system', 'content': 'You are an informative training assistant.'}, {'role': 'user', 'content': 'What is a frontend framework?'}, {'role': 'assistant', 'content': 'A frontend framework is a collection of tools and libraries that simplify web development by providing a structured way to build the user interface. Examples include React, Angular, and Vue.js.'}]}, {'messages': [{'role': 'system', 'content': 'You are a helpful assistant.'}, {'role': 'user', 'content': 'What is the purpose of unit testing?'}, {'role': 'assistant', 'content': 'Unit testing involves testing individual components of software to ensure that each part functions correctly. It helps catch bugs early, making the development process more efficient.'}]}, {'messages': [{'role': 'system', 'content': 'You are a friendly assistant.'}, {'role': 'user', 'content': 'What is cloud computing?'}, {'role': 'assistant', 'content': 'Cloud computing is the delivery of computing servicesâ€”like servers, storage, databases, networking, software, and analyticsâ€”over the internet (the cloud), providing flexibility and scalability.'}]}, {'messages': [{'role': 'system', 'content': 'You are a concise training assistant.'}, {'role': 'user', 'content': 'What is the role of a data analyst?'}, {'role': 'assistant', 'content': 'A data analyst collects, processes, and analyzes data to help organizations make informed decisions. They interpret data trends and present findings through reports and visualizations.'}]}, {'messages': [{'role': 'system', 'content': 'You are a knowledgeable training assistant.'}, {'role': 'user', 'content': 'What is natural language processing (NLP)?'}, {'role': 'assistant', 'content': 'Natural Language Processing (NLP) is a field of artificial intelligence that focuses on the interaction between computers and humans through natural language. It involves tasks like text analysis, sentiment analysis, and language translation.'}]}, {'messages': [{'role': 'system', 'content': 'You are an informative training assistant.'}, {'role': 'user', 'content': 'What is the significance of agile sprints?'}, {'role': 'assistant', 'content': 'Agile sprints are time-boxed iterations in the Agile methodology where teams work on a defined set of tasks to produce a potentially shippable product increment. They promote regular feedback and adaptation.'}]}, {'messages': [{'role': 'system', 'content': 'You are a helpful assistant.'}, {'role': 'user', 'content': 'Can you explain the difference between supervised and unsupervised learning?'}, {'role': 'assistant', 'content': 'Supervised learning involves training a model on labeled data, where the outcome is known, while unsupervised learning uses unlabeled data to find patterns or groupings without predefined outcomes.'}]}, {'messages': [{'role': 'system', 'content': 'You are a friendly assistant.'}, {'role': 'user', 'content': 'What is Docker and why is it used?'}, {'role': 'assistant', 'content': 'Docker is a platform that enables developers to automate the deployment of applications in lightweight, portable containers. It ensures consistency across environments and simplifies the deployment process.'}]}, {'messages': [{'role': 'system', 'content': 'You are a concise training assistant.'}, {'role': 'user', 'content': 'What are APIs and why are they important?'}, {'role': 'assistant', 'content': 'APIs (Application Programming Interfaces) are sets of rules that allow different software programs to communicate. They are important because they enable integration between different systems, enhancing functionality.'}]}, {'messages': [{'role': 'system', 'content': 'You are a knowledgeable training assistant.'}, {'role': 'user', 'content': 'What is the purpose of a data warehouse?'}, {'role': 'assistant', 'content': 'A data warehouse is a centralized repository that stores large amounts of structured and unstructured data from multiple sources. It is used for data analysis and reporting, enabling better business intelligence.'}]}, {'messages': [{'role': 'system', 'content': 'You are an informative training assistant.'}, {'role': 'user', 'content': 'What is a version control system?'}, {'role': 'assistant', 'content': 'A version control system is a tool that helps developers track and manage changes to code over time. It allows multiple people to collaborate on the same project and provides a history of changes.'}]}, {'messages': [{'role': 'system', 'content': 'You are a helpful assistant.'}, {'role': 'user', 'content': 'What is the role of a data scientist?'}, {'role': 'assistant', 'content': 'A data scientist analyzes and interprets complex data to help organizations make data-driven decisions. They use statistical methods, machine learning, and programming skills to extract insights.'}]}, {'messages': [{'role': 'system', 'content': 'You are a friendly assistant.'}, {'role': 'user', 'content': 'What is the purpose of load balancing?'}, {'role': 'assistant', 'content': 'Load balancing distributes network or application traffic across multiple servers to ensure no single server becomes overwhelmed, improving availability and reliability.'}]}, {'messages': [{'role': 'system', 'content': 'You are a concise training assistant.'}, {'role': 'user', 'content': 'What is the significance of data visualization?'}, {'role': 'assistant', 'content': 'Data visualization is the graphical representation of data. It helps to communicate information clearly and efficiently, allowing stakeholders to understand complex data at a glance.'}]}, {'messages': [{'role': 'system', 'content': 'You are an informative training assistant.'}, {'role': 'user', 'content': 'What is feature engineering?'}, {'role': 'assistant', 'content': 'Feature engineering is the process of using domain knowledge to select, modify, or create new features from raw data to improve the performance of machine learning models.'}]}, {'messages': [{'role': 'system', 'content': 'You are a knowledgeable training assistant.'}, {'role': 'user', 'content': 'What is the difference between SQL and NoSQL?'}, {'role': 'assistant', 'content': 'SQL is a relational database management system that uses structured query language for defining and manipulating data, while NoSQL databases are non-relational and designed for unstructured data with flexible schemas.'}]}, {'messages': [{'role': 'system', 'content': 'You are a concise training assistant.'}, {'role': 'user', 'content': 'What is the purpose of Docker?'}, {'role': 'assistant', 'content': 'Docker is a platform that enables developers to automate the deployment of applications in lightweight containers, ensuring consistency across different environments.'}]}, {'messages': [{'role': 'system', 'content': 'You are a helpful assistant.'}, {'role': 'user', 'content': 'What is a neural network?'}, {'role': 'assistant', 'content': 'A neural network is a computational model inspired by the human brain, consisting of interconnected nodes (neurons) that process data and learn from it to perform tasks like classification or regression.'}]}, {'messages': [{'role': 'system', 'content': 'You are a friendly assistant.'}, {'role': 'user', 'content': 'What is the role of an API in web development?'}, {'role': 'assistant', 'content': 'An API (Application Programming Interface) allows different software applications to communicate with each other, enabling functionalities like data exchange and service integration.'}]}, {'messages': [{'role': 'system', 'content': 'You are an informative training assistant.'}, {'role': 'user', 'content': 'What is the significance of version control?'}, {'role': 'assistant', 'content': 'Version control helps manage changes to code over time, allowing developers to track revisions, collaborate effectively, and revert to previous versions if needed.'}]}, {'messages': [{'role': 'system', 'content': 'You are a knowledgeable training assistant.'}, {'role': 'user', 'content': 'What is data wrangling?'}, {'role': 'assistant', 'content': 'Data wrangling is the process of cleaning, restructuring, and enriching raw data into a format suitable for analysis.'}]}, {'messages': [{'role': 'system', 'content': 'You are a concise training assistant.'}, {'role': 'user', 'content': 'What is a microservices architecture?'}, {'role': 'assistant', 'content': 'Microservices architecture is a design approach where a software application is composed of small, independent services that communicate over APIs, allowing for flexibility and scalability.'}]}, {'messages': [{'role': 'system', 'content': 'You are a helpful assistant.'}, {'role': 'user', 'content': 'What is cross-validation in machine learning?'}, {'role': 'assistant', 'content': \"Cross-validation is a technique used to assess how a model's predictive performance will generalize to an independent data set, helping to prevent overfitting.\"}]}, {'messages': [{'role': 'system', 'content': 'You are a friendly assistant.'}, {'role': 'user', 'content': 'What is the purpose of a data warehouse?'}, {'role': 'assistant', 'content': 'A data warehouse is a centralized repository for storing, managing, and analyzing large volumes of data from multiple sources, enabling business intelligence and reporting.'}]}, {'messages': [{'role': 'system', 'content': 'You are an informative training assistant.'}, {'role': 'user', 'content': 'What are the key principles of DevOps?'}, {'role': 'assistant', 'content': 'Key principles of DevOps include collaboration between development and operations, automation of processes, continuous integration and delivery, and monitoring and feedback.'}]}, {'messages': [{'role': 'system', 'content': 'You are a knowledgeable training assistant.'}, {'role': 'user', 'content': 'What is reinforcement learning?'}, {'role': 'assistant', 'content': 'Reinforcement learning is a type of machine learning where an agent learns to make decisions by receiving rewards or penalties based on its actions in an environment.'}]}, {'messages': [{'role': 'system', 'content': 'You are a concise training assistant.'}, {'role': 'user', 'content': 'What is the difference between supervised and unsupervised learning?'}, {'role': 'assistant', 'content': 'Supervised learning uses labeled data to train models, while unsupervised learning uses unlabeled data to find patterns or groupings.'}]}, {'messages': [{'role': 'system', 'content': 'You are a helpful assistant.'}, {'role': 'user', 'content': 'What are the benefits of using Agile in project management?'}, {'role': 'assistant', 'content': 'Agile promotes flexibility, encourages collaboration, allows for frequent feedback, and enables teams to adapt to changing requirements more effectively.'}]}, {'messages': [{'role': 'system', 'content': 'You are a friendly assistant.'}, {'role': 'user', 'content': 'What is exploratory data analysis?'}, {'role': 'assistant', 'content': 'Exploratory Data Analysis (EDA) involves analyzing data sets to summarize their main characteristics, often using visual methods to uncover patterns or anomalies.'}]}, {'messages': [{'role': 'system', 'content': 'You are an informative training assistant.'}, {'role': 'user', 'content': 'What is the importance of data privacy?'}, {'role': 'assistant', 'content': \"Data privacy is crucial for protecting sensitive information from unauthorized access, ensuring compliance with regulations, and maintaining users' trust.\"}]}, {'messages': [{'role': 'system', 'content': 'You are a knowledgeable training assistant.'}, {'role': 'user', 'content': 'What are some best practices for writing clean code?'}, {'role': 'assistant', 'content': 'Best practices for writing clean code include using meaningful variable names, keeping functions short and focused, writing comments, and adhering to consistent coding conventions.'}]}, {'messages': [{'role': 'system', 'content': 'You are a concise training assistant.'}, {'role': 'user', 'content': 'What is data normalization?'}, {'role': 'assistant', 'content': 'Data normalization is the process of scaling individual data points to fit within a specific range, often to improve the performance of machine learning algorithms.'}]}, {'messages': [{'role': 'system', 'content': 'You are a helpful assistant.'}, {'role': 'user', 'content': 'What is a serverless architecture?'}, {'role': 'assistant', 'content': 'Serverless architecture allows developers to build and run applications without managing server infrastructure, utilizing cloud services to automatically allocate resources.'}]}, {'messages': [{'role': 'system', 'content': 'You are a friendly assistant.'}, {'role': 'user', 'content': 'What is the role of a software architect?'}, {'role': 'assistant', 'content': 'A software architect is responsible for designing the high-level structure of software systems, making decisions on technology stack, architecture patterns, and ensuring alignment with business goals.'}]}, {'messages': [{'role': 'system', 'content': 'You are an informative training assistant.'}, {'role': 'user', 'content': 'What is the purpose of a load balancer?'}, {'role': 'assistant', 'content': 'A load balancer distributes incoming network traffic across multiple servers to ensure no single server becomes overwhelmed, enhancing performance and reliability.'}]}, {'messages': [{'role': 'system', 'content': 'You are a knowledgeable training assistant.'}, {'role': 'user', 'content': 'What is data mining?'}, {'role': 'assistant', 'content': 'Data mining is the process of discovering patterns and knowledge from large amounts of data using techniques from statistics and machine learning.'}]}, {'messages': [{'role': 'system', 'content': 'You are an informative training assistant.'}, {'role': 'user', 'content': 'What is a data pipeline?'}, {'role': 'assistant', 'content': 'A data pipeline is a set of tools and processes that automate the movement and transformation of data from one system to another, ensuring it is ready for analysis.'}]}, {'messages': [{'role': 'system', 'content': 'You are a knowledgeable training assistant.'}, {'role': 'user', 'content': 'What is agile software development?'}, {'role': 'assistant', 'content': 'Agile software development is a methodology that emphasizes iterative development, where requirements and solutions evolve through collaboration between cross-functional teams.'}]}, {'messages': [{'role': 'system', 'content': 'You are a concise training assistant.'}, {'role': 'user', 'content': 'What are webhooks?'}, {'role': 'assistant', 'content': 'Webhooks are HTTP callbacks that are triggered by specific events in a web application, allowing real-time data sharing between systems.'}]}, {'messages': [{'role': 'system', 'content': 'You are a helpful assistant.'}, {'role': 'user', 'content': 'What is data annotation?'}, {'role': 'assistant', 'content': 'Data annotation is the process of labeling data to make it usable for training machine learning models, which helps algorithms learn to identify patterns.'}]}, {'messages': [{'role': 'system', 'content': 'You are a friendly assistant.'}, {'role': 'user', 'content': 'What is the purpose of a container in software development?'}, {'role': 'assistant', 'content': 'Containers package applications and their dependencies together, allowing them to run consistently across different environments without conflicts.'}]}, {'messages': [{'role': 'system', 'content': 'You are an informative training assistant.'}, {'role': 'user', 'content': 'What is the function of a database index?'}, {'role': 'assistant', 'content': 'A database index improves the speed of data retrieval operations on a database table by providing a structured way to look up records.'}]}, {'messages': [{'role': 'system', 'content': 'You are a knowledgeable training assistant.'}, {'role': 'user', 'content': 'What is the role of an ML engineer?'}, {'role': 'assistant', 'content': 'A machine learning engineer designs and implements machine learning models, optimizing them for performance and scalability in production environments.'}]}, {'messages': [{'role': 'system', 'content': 'You are a concise training assistant.'}, {'role': 'user', 'content': 'What is the importance of user experience (UX) design?'}, {'role': 'assistant', 'content': 'UX design focuses on optimizing user satisfaction by improving the usability, accessibility, and pleasure provided in the interaction with a product.'}]}, {'messages': [{'role': 'system', 'content': 'You are a helpful assistant.'}, {'role': 'user', 'content': 'What are some common algorithms used in machine learning?'}, {'role': 'assistant', 'content': 'Common machine learning algorithms include linear regression, decision trees, support vector machines, and neural networks.'}]}, {'messages': [{'role': 'system', 'content': 'You are a friendly assistant.'}, {'role': 'user', 'content': 'What is a content delivery network (CDN)?'}, {'role': 'assistant', 'content': 'A CDN is a network of servers that deliver web content to users based on their geographic location, improving load times and reliability.'}]}, {'messages': [{'role': 'system', 'content': 'You are an informative training assistant.'}, {'role': 'user', 'content': 'What is the difference between a stack and a queue?'}, {'role': 'assistant', 'content': 'A stack is a data structure that follows the Last In, First Out (LIFO) principle, while a queue follows the First In, First Out (FIFO) principle.'}]}, {'messages': [{'role': 'system', 'content': 'You are a knowledgeable training assistant.'}, {'role': 'user', 'content': 'What is a software development lifecycle (SDLC)?'}, {'role': 'assistant', 'content': 'The software development lifecycle (SDLC) is a process for planning, creating, testing, and deploying software applications, ensuring quality and efficiency.'}]}, {'messages': [{'role': 'system', 'content': 'You are a concise training assistant.'}, {'role': 'user', 'content': 'What is a pivot table?'}, {'role': 'assistant', 'content': 'A pivot table is a data processing tool used in spreadsheets to summarize and analyze data, allowing for easy reorganization and comparison.'}]}, {'messages': [{'role': 'system', 'content': 'You are a helpful assistant.'}, {'role': 'user', 'content': 'What is the role of a data scientist?'}, {'role': 'assistant', 'content': 'A data scientist analyzes and interprets complex data to help organizations make informed decisions, often using statistical methods and machine learning.'}]}, {'messages': [{'role': 'system', 'content': 'You are a friendly assistant.'}, {'role': 'user', 'content': 'What are environment variables?'}, {'role': 'assistant', 'content': 'Environment variables are dynamic values that can affect the behavior of running processes on a computer, often used to configure applications.'}]}, {'messages': [{'role': 'system', 'content': 'You are an informative training assistant.'}, {'role': 'user', 'content': 'What is a load testing tool?'}, {'role': 'assistant', 'content': 'A load testing tool simulates multiple users accessing an application simultaneously to assess its performance and identify potential bottlenecks.'}]}, {'messages': [{'role': 'system', 'content': 'You are a knowledgeable training assistant.'}, {'role': 'user', 'content': 'What is natural language processing (NLP)?'}, {'role': 'assistant', 'content': 'Natural Language Processing (NLP) is a field of artificial intelligence that focuses on the interaction between computers and humans through natural language.'}]}, {'messages': [{'role': 'system', 'content': 'You are a concise training assistant.'}, {'role': 'user', 'content': 'What is a relational database?'}, {'role': 'assistant', 'content': 'A relational database is a type of database that stores data in structured tables, allowing for relationships between different data entries.'}]}, {'messages': [{'role': 'system', 'content': 'You are a helpful assistant.'}, {'role': 'user', 'content': 'What is A/B testing?'}, {'role': 'assistant', 'content': 'A/B testing is a method of comparing two versions of a webpage or app to determine which one performs better in achieving a specific goal.'}]}]\n"
     ]
    }
   ],
   "source": [
    "# Load your training dataset\n",
    "with open(r'raw_data\\data_conversational_chat_format.json', 'r') as file:\n",
    "    training_data = json.load(file)\n",
    "print(training_data)"
   ]
  },
  {
   "cell_type": "code",
   "execution_count": 4,
   "metadata": {},
   "outputs": [
    {
     "name": "stdout",
     "output_type": "stream",
     "text": [
      "{'messages': [{'role': 'system', 'content': 'You are a knowledgeable training assistant.'}, {'role': 'user', 'content': 'What are the key skills needed for a career in Data Science?'}, {'role': 'assistant', 'content': 'Key skills for a career in Data Science include programming (Python, R), statistics, data visualization, machine learning, and knowledge of databases (SQL, NoSQL).'}]}\n",
      "{'messages': [{'role': 'system', 'content': 'You are an informative training assistant.'}, {'role': 'user', 'content': 'Can you explain what Full Stack Development involves?'}, {'role': 'assistant', 'content': 'Full Stack Development involves working on both the front-end and back-end of web applications. This includes using HTML, CSS, and JavaScript for the front-end, and languages like Node.js, Python, or Ruby for the back-end.'}]}\n",
      "{'messages': [{'role': 'system', 'content': 'You are a helpful assistant.'}, {'role': 'user', 'content': 'What are some popular tools used in DevOps?'}, {'role': 'assistant', 'content': 'Popular DevOps tools include Docker for containerization, Jenkins for continuous integration, Kubernetes for orchestration, and Git for version control.'}]}\n",
      "{'messages': [{'role': 'system', 'content': 'You are a friendly assistant.'}, {'role': 'user', 'content': 'How can I get started with machine learning?'}, {'role': 'assistant', 'content': 'To get started with machine learning, you should learn Python and libraries like TensorFlow and scikit-learn. Additionally, understanding the basics of statistics and linear algebra will be helpful.'}]}\n"
     ]
    }
   ],
   "source": [
    "# printing top 5 training examples \n",
    "count = 1\n",
    "for example in training_data:\n",
    "    print(example)\n",
    "    count += 1 \n",
    "    if count == 5:\n",
    "        break\n"
   ]
  },
  {
   "cell_type": "code",
   "execution_count": 5,
   "metadata": {},
   "outputs": [
    {
     "name": "stdout",
     "output_type": "stream",
     "text": [
      "Type of data object :  <class 'list'>\n"
     ]
    }
   ],
   "source": [
    "## Gpt-3.5-turbo required in jsonl format \n",
    "print(\"Type of data object : \",type(training_data))   "
   ]
  },
  {
   "cell_type": "code",
   "execution_count": 6,
   "metadata": {},
   "outputs": [
    {
     "name": "stdout",
     "output_type": "stream",
     "text": [
      "Total no. of data points :  71\n",
      "successfully splitted data! \n",
      "Training data points :  63\n",
      "Testing data points :  7\n"
     ]
    }
   ],
   "source": [
    "## splitting data into training and testing  \n",
    "testing_size = 0.10\n",
    "no_of_data_point_in_testing = int(len(training_data)*testing_size)\n",
    "print(\"Total no. of data points : \",len(training_data) )\n",
    "\n",
    "random.shuffle(training_data)   # shuffling training data before select testing \n",
    "\n",
    "\n",
    "train_data = training_data[no_of_data_point_in_testing+1:]\n",
    "val_data = training_data[:no_of_data_point_in_testing]\n",
    "print(\"successfully splitted data! \")\n",
    "print('Training data points : ',len(train_data))\n",
    "print('Testing data points : ',len(val_data))\n"
   ]
  },
  {
   "cell_type": "code",
   "execution_count": 7,
   "metadata": {},
   "outputs": [],
   "source": [
    "## writing formated data into memory as a jsonl format  \n",
    "def save_formatted_data(data,file_path):\n",
    "    with open(file_path,'w') as file: \n",
    "        for example in data:\n",
    "            json.dump(example,file)\n",
    "            file.write('\\n')\n",
    "\n",
    "\n",
    "\n",
    "os.makedirs('final_formated_data',exist_ok=True)\n",
    "training_filepath = r\"final_formated_data\\train_formated.jsonl\"\n",
    "validation_filepath = r\"final_formated_data\\val_formated.jsonl\"\n",
    "\n",
    "\n",
    "save_formatted_data(train_data,training_filepath)\n",
    "save_formatted_data(val_data,validation_filepath)\n"
   ]
  },
  {
   "cell_type": "code",
   "execution_count": 8,
   "metadata": {},
   "outputs": [
    {
     "name": "stdout",
     "output_type": "stream",
     "text": [
      "{'messages': [{'role': 'system', 'content': 'You are a friendly assistant.'}, {'role': 'user', 'content': 'What is the role of an API in web development?'}, {'role': 'assistant', 'content': 'An API (Application Programming Interface) allows different software applications to communicate with each other, enabling functionalities like data exchange and service integration.'}]}\n",
      "{'messages': [{'role': 'system', 'content': 'You are an informative training assistant.'}, {'role': 'user', 'content': 'Can you explain what RESTful APIs are?'}, {'role': 'assistant', 'content': 'RESTful APIs are application programming interfaces that adhere to the principles of Representational State Transfer (REST). They allow different software systems to communicate over HTTP using standard methods like GET, POST, PUT, and DELETE.'}]}\n",
      "{'messages': [{'role': 'system', 'content': 'You are an informative training assistant.'}, {'role': 'user', 'content': 'What is a data pipeline?'}, {'role': 'assistant', 'content': 'A data pipeline is a set of tools and processes that automate the movement and transformation of data from one system to another, ensuring it is ready for analysis.'}]}\n",
      "{'messages': [{'role': 'system', 'content': 'You are a knowledgeable training assistant.'}, {'role': 'user', 'content': 'What is reinforcement learning?'}, {'role': 'assistant', 'content': 'Reinforcement learning is a type of machine learning where an agent learns to make decisions by receiving rewards or penalties based on its actions in an environment.'}]}\n",
      "{'messages': [{'role': 'system', 'content': 'You are an informative training assistant.'}, {'role': 'user', 'content': 'What is the purpose of a load balancer?'}, {'role': 'assistant', 'content': 'A load balancer distributes incoming network traffic across multiple servers to ensure no single server becomes overwhelmed, enhancing performance and reliability.'}]}\n",
      "{'messages': [{'role': 'system', 'content': 'You are a knowledgeable training assistant.'}, {'role': 'user', 'content': 'What are some best practices for writing clean code?'}, {'role': 'assistant', 'content': 'Best practices for writing clean code include using meaningful variable names, keeping functions short and focused, writing comments, and adhering to consistent coding conventions.'}]}\n",
      "{'messages': [{'role': 'system', 'content': 'You are a concise training assistant.'}, {'role': 'user', 'content': 'What is the purpose of containerization in DevOps?'}, {'role': 'assistant', 'content': 'Containerization packages applications and their dependencies into isolated containers, ensuring consistent environments across development, testing, and production, and improving scalability and deployment speed.'}]}\n"
     ]
    }
   ],
   "source": [
    "# to checkout the formatted data\n",
    "with open(validation_filepath, 'r') as file:\n",
    "    # Each line in the file is a separate JSON object\n",
    "    data = [json.loads(line) for line in file]\n",
    "\n",
    "# Display the examples entry one by one \n",
    "for entry in data:\n",
    "    print(entry)\n"
   ]
  },
  {
   "cell_type": "code",
   "execution_count": 22,
   "metadata": {},
   "outputs": [],
   "source": [
    "# Upload  Training Files\n",
    "training_file = client.files.create(\n",
    "    file=open(training_filepath, \"rb\"), purpose=\"fine-tune\"\n",
    ")"
   ]
  },
  {
   "cell_type": "code",
   "execution_count": 21,
   "metadata": {},
   "outputs": [],
   "source": [
    "# Upload  Validation Files\n",
    "validation_file = client.files.create(\n",
    "    file=open(validation_filepath, \"rb\"), purpose=\"fine-tune\"\n",
    ")"
   ]
  },
  {
   "cell_type": "code",
   "execution_count": 23,
   "metadata": {},
   "outputs": [
    {
     "name": "stdout",
     "output_type": "stream",
     "text": [
      "Training file id :  file-rhdu7xF3UzjbII9SOi850ZT8\n",
      "Training file id :  file-KQxMZGxeyF31Zjwwa0APgnBF\n"
     ]
    }
   ],
   "source": [
    "## uploaded files id \n",
    "print(\"Training file id : \",training_file.id )\n",
    "print(\"Training file id : \",validation_file.id )\n"
   ]
  },
  {
   "cell_type": "markdown",
   "metadata": {},
   "source": [
    "<h2>Fine-tune avaialable models</h2>\n",
    "<ul>\n",
    "<li>gpt-4o-2024-08-06</li>\n",
    "<li>gpt-4o-mini-2024-07-18</li>\n",
    "<li>gpt-4-0613</li>\n",
    "<li>gpt-3.5-turbo-0125</li>\n",
    "<li>gpt-3.5-turbo-1106</li>\n",
    "<li>gpt-3.5-turbo-0613</li>\n",
    "<li>babbage-002</li>\n",
    "<li>davinci-002</li>\n",
    "</ul>"
   ]
  },
  {
   "cell_type": "code",
   "execution_count": 27,
   "metadata": {},
   "outputs": [],
   "source": [
    "# creating fine tuning job with model='gpt-3.5-turbo-0125'\n",
    "sufx_name = \"delvex\"\n",
    "response = client.fine_tuning.jobs.create(\n",
    "  training_file=training_file.id, \n",
    "  validation_file=validation_file.id, \n",
    "  model=\"gpt-3.5-turbo\",     # or  model='gpt-3.5-turbo-0125'\n",
    "  suffix= sufx_name\n",
    ")"
   ]
  },
  {
   "cell_type": "code",
   "execution_count": 32,
   "metadata": {},
   "outputs": [
    {
     "name": "stdout",
     "output_type": "stream",
     "text": [
      "fine tune job id :  ftjob-28M6obAR36MMxxhygdh6ozOb\n"
     ]
    }
   ],
   "source": [
    "## printing fine tune  job id \n",
    "print(\"fine tune job id : \",response.id)"
   ]
  },
  {
   "cell_type": "code",
   "execution_count": 30,
   "metadata": {},
   "outputs": [
    {
     "name": "stdout",
     "output_type": "stream",
     "text": [
      "SyncCursorPage[FineTuningJob](data=[FineTuningJob(id='ftjob-28M6obAR36MMxxhygdh6ozOb', created_at=1727413987, error=Error(code=None, message=None, param=None), fine_tuned_model=None, finished_at=None, hyperparameters=Hyperparameters(n_epochs=3, batch_size=1, learning_rate_multiplier=2), model='gpt-3.5-turbo-0125', object='fine_tuning.job', organization_id='org-sW9LYXODuBOJUwL7Lo4RNLZu', result_files=[], seed=755621437, status='running', trained_tokens=None, training_file='file-rhdu7xF3UzjbII9SOi850ZT8', validation_file='file-KQxMZGxeyF31Zjwwa0APgnBF', estimated_finish=None, integrations=[], user_provided_suffix='delvex'), FineTuningJob(id='ftjob-RHadzGF6DFLY3rHZPFrbzzNr', created_at=1725623002, error=Error(code=None, message=None, param=None), fine_tuned_model='ft:gpt-3.5-turbo-0125:delvex:ashu-walmartbot:A4RkD56G', finished_at=1725623323, hyperparameters=Hyperparameters(n_epochs=5, batch_size=1, learning_rate_multiplier=2), model='gpt-3.5-turbo-0125', object='fine_tuning.job', organization_id='org-sW9LYXODuBOJUwL7Lo4RNLZu', result_files=['file-KMsj2YMRClQ91ckjmZWZLXBa'], seed=205962168, status='succeeded', trained_tokens=6695, training_file='file-QTD1sbg8mBN8v6UhTaGPqpmk', validation_file=None, estimated_finish=None, integrations=[], user_provided_suffix='ashu_walmartbot'), FineTuningJob(id='ftjob-Xi5qYSXJjdVH31sREBvUIE1I', created_at=1725619039, error=Error(code=None, message=None, param=None), fine_tuned_model='ft:gpt-3.5-turbo-0125:delvex:ashu-walmartbot:A4QikqoV', finished_at=1725619388, hyperparameters=Hyperparameters(n_epochs=5, batch_size=1, learning_rate_multiplier=2), model='gpt-3.5-turbo-0125', object='fine_tuning.job', organization_id='org-sW9LYXODuBOJUwL7Lo4RNLZu', result_files=['file-Qu8fu4otLilndok8IV5MUJRe'], seed=748735526, status='succeeded', trained_tokens=6695, training_file='file-QTD1sbg8mBN8v6UhTaGPqpmk', validation_file=None, estimated_finish=None, integrations=[], user_provided_suffix='ashu_walmartbot'), FineTuningJob(id='ftjob-VC0yUKBHkF9bhkvlGRUJ92tn', created_at=1723088468, error=Error(code=None, message=None, param=None), fine_tuned_model='ft:gpt-3.5-turbo-0125:personal:manish-walmart-bot:9toOP155', finished_at=1723088776, hyperparameters=Hyperparameters(n_epochs=5, batch_size=1, learning_rate_multiplier=2), model='gpt-3.5-turbo-0125', object='fine_tuning.job', organization_id='org-sW9LYXODuBOJUwL7Lo4RNLZu', result_files=['file-qFWeVVEwqK2nUsIhMM7IfNxI'], seed=1990268733, status='succeeded', trained_tokens=6695, training_file='file-Y03yNb6dVVs6wy9oHYiORFGs', validation_file=None, estimated_finish=None, integrations=[], user_provided_suffix='manish-walmart-bot'), FineTuningJob(id='ftjob-BLLaIfQEngNT8OCkrvAmhoyA', created_at=1723087468, error=Error(code=None, message=None, param=None), fine_tuned_model='ft:gpt-3.5-turbo-0125:personal:training-hote-bot:9toCJjSC', finished_at=1723088026, hyperparameters=Hyperparameters(n_epochs=3, batch_size=1, learning_rate_multiplier=2), model='gpt-3.5-turbo-0125', object='fine_tuning.job', organization_id='org-sW9LYXODuBOJUwL7Lo4RNLZu', result_files=['file-wlDKOb9VmCpaDvxdY1jL72Qg'], seed=1300643074, status='succeeded', trained_tokens=5022, training_file='file-JFVajLmA7Rtczz9XvddNrhIz', validation_file=None, estimated_finish=None, integrations=[], user_provided_suffix='training_hote_bot')], object='list', has_more=True)\n"
     ]
    }
   ],
   "source": [
    "# List 5 fine-tuning jobs\n",
    "print(client.fine_tuning.jobs.list(limit=5))\n",
    "# status== 'runing' "
   ]
  },
  {
   "cell_type": "code",
   "execution_count": 36,
   "metadata": {},
   "outputs": [
    {
     "data": {
      "text/plain": [
       "FineTuningJob(id='ftjob-28M6obAR36MMxxhygdh6ozOb', created_at=1727413987, error=Error(code=None, message=None, param=None), fine_tuned_model=None, finished_at=None, hyperparameters=Hyperparameters(n_epochs=3, batch_size=1, learning_rate_multiplier=2), model='gpt-3.5-turbo-0125', object='fine_tuning.job', organization_id='org-sW9LYXODuBOJUwL7Lo4RNLZu', result_files=[], seed=755621437, status='running', trained_tokens=None, training_file='file-rhdu7xF3UzjbII9SOi850ZT8', validation_file='file-KQxMZGxeyF31Zjwwa0APgnBF', estimated_finish=1727414490, integrations=[], user_provided_suffix='delvex')"
      ]
     },
     "execution_count": 36,
     "metadata": {},
     "output_type": "execute_result"
    }
   ],
   "source": [
    "# Retrieve the state of a fine-tune\n",
    "client.fine_tuning.jobs.retrieve(response.id)    # job id  == response.id\n",
    "## status = 'runing 😥"
   ]
  },
  {
   "cell_type": "code",
   "execution_count": 38,
   "metadata": {},
   "outputs": [
    {
     "data": {
      "text/plain": [
       "FineTuningJob(id='ftjob-28M6obAR36MMxxhygdh6ozOb', created_at=1727413987, error=Error(code=None, message=None, param=None), fine_tuned_model='ft:gpt-3.5-turbo-0125:delvex:delvex:ABxiEjIy', finished_at=1727414504, hyperparameters=Hyperparameters(n_epochs=3, batch_size=1, learning_rate_multiplier=2), model='gpt-3.5-turbo-0125', object='fine_tuning.job', organization_id='org-sW9LYXODuBOJUwL7Lo4RNLZu', result_files=['file-nlAUMhlVPXK7Zk71QJ4vQREN'], seed=755621437, status='succeeded', trained_tokens=10806, training_file='file-rhdu7xF3UzjbII9SOi850ZT8', validation_file='file-KQxMZGxeyF31Zjwwa0APgnBF', estimated_finish=None, integrations=[], user_provided_suffix='delvex')"
      ]
     },
     "execution_count": 38,
     "metadata": {},
     "output_type": "execute_result"
    }
   ],
   "source": [
    "client.fine_tuning.jobs.retrieve(response.id)   \n",
    "# status='succeeded'  <=== it means, Successfully fine-tuned the model  😍 "
   ]
  },
  {
   "cell_type": "code",
   "execution_count": null,
   "metadata": {},
   "outputs": [],
   "source": [
    "# if you want to cancel the job execute it \n",
    "# client.fine_tuning.jobs.cancel(\"paste job id\")"
   ]
  },
  {
   "cell_type": "code",
   "execution_count": 76,
   "metadata": {},
   "outputs": [],
   "source": [
    "# Test the fine-tune model \n",
    "def predict(test_messages, fine_tuned_model_id):\n",
    "    response = client.chat.completions.create(\n",
    "        model=fine_tuned_model_id, messages=test_messages, temperature=0, max_tokens=250\n",
    "    )\n",
    "    return response.choices[0].message.content\n"
   ]
  },
  {
   "cell_type": "code",
   "execution_count": 59,
   "metadata": {},
   "outputs": [
    {
     "name": "stdout",
     "output_type": "stream",
     "text": [
      "User 😎:  What is the role of an API in web development?\n",
      "BOT 🤖 :  An API (Application Programming Interface) in web development allows different software programs to communicate with each other, enabling the exchange of data and functionality. It defines the methods and data formats that applications can use to request and exchange information.\n",
      "\n",
      "User 😎:  Can you explain what RESTful APIs are?\n",
      "BOT 🤖 :  RESTful APIs are a type of web API that adhere to the principles of REST (Representational State Transfer), using standard HTTP methods (GET, POST, PUT, DELETE) to perform CRUD operations on resources. They are designed to be stateless and use hypermedia links for navigation.\n",
      "\n",
      "User 😎:  What is a data pipeline?\n",
      "BOT 🤖 :  A data pipeline is a series of processes that extract, transform, and load data from various sources into a destination, allowing for the automated flow of data.\n",
      "\n",
      "User 😎:  What is reinforcement learning?\n",
      "BOT 🤖 :  Reinforcement learning is a type of machine learning where an agent learns to make decisions by interacting with an environment and receiving rewards or penalties for its actions.\n",
      "\n",
      "User 😎:  What is the purpose of a load balancer?\n",
      "BOT 🤖 :  A load balancer distributes incoming network traffic across multiple servers to ensure no single server becomes overwhelmed, improving reliability and availability.\n",
      "\n",
      "User 😎:  What are some best practices for writing clean code?\n",
      "BOT 🤖 :  1. Use meaningful variable and function names.\n",
      "2. Keep functions short and focused on a single task.\n",
      "3. Use consistent formatting and indentation.\n",
      "4. Comment code to explain complex logic or functionality.\n",
      "5. Avoid unnecessary comments or commented-out code.\n",
      "6. Follow a consistent naming convention for variables, functions, and classes.\n",
      "7. Use whitespace to improve readability.\n",
      "8. Break down complex tasks into smaller, more manageable parts.\n",
      "9. Use version control to track changes and collaborate with others.\n",
      "10. Test code regularly to catch bugs early.\n",
      "\n",
      "User 😎:  What is the purpose of containerization in DevOps?\n",
      "BOT 🤖 :  Containerization in DevOps is the practice of packaging an application and its dependencies into a standardized unit, called a container, to ensure consistency across different environments and simplify deployment and scaling.\n",
      "\n"
     ]
    }
   ],
   "source": [
    "## passing the testing point to the finetuned model. \n",
    "\n",
    "\n",
    "with open(validation_filepath, 'r') as file:\n",
    "    test_examples = [json.loads(line) for line in file]\n",
    "\n",
    "# Display the data\n",
    "FT_model_id = \"ft:gpt-3.5-turbo-0125:delvex:delvex:ABxiEjIy\"\n",
    "for example in test_examples:\n",
    "    print(\"User 😎: \",example['messages'][1]['content']) \n",
    "    response = predict(test_messages=[example['messages'][1]],fine_tuned_model_id=FT_model_id)\n",
    "    print(\"BOT 🤖 : \",response)\n",
    "    print()"
   ]
  },
  {
   "cell_type": "markdown",
   "metadata": {},
   "source": [
    "### THANKS TO DELVEX 😊"
   ]
  }
 ],
 "metadata": {
  "kernelspec": {
   "display_name": "Python 3",
   "language": "python",
   "name": "python3"
  },
  "language_info": {
   "codemirror_mode": {
    "name": "ipython",
    "version": 3
   },
   "file_extension": ".py",
   "mimetype": "text/x-python",
   "name": "python",
   "nbconvert_exporter": "python",
   "pygments_lexer": "ipython3",
   "version": "3.12.4"
  }
 },
 "nbformat": 4,
 "nbformat_minor": 2
}
